{
 "cells": [
  {
   "cell_type": "markdown",
   "metadata": {},
   "source": [
    "# Практическое задание №12 по теме \"Модель Transformer-2\"."
   ]
  },
  {
   "cell_type": "markdown",
   "metadata": {
    "id": "u2e-U1BcHY84"
   },
   "source": [
    "Загрузка библиотек:"
   ]
  },
  {
   "cell_type": "code",
   "execution_count": 1,
   "metadata": {
    "id": "3LfGHns9uGWy"
   },
   "outputs": [],
   "source": [
    "import pandas as pd\n",
    "import numpy as np\n",
    "import json\n",
    "import random\n",
    "import torch"
   ]
  },
  {
   "cell_type": "code",
   "execution_count": 2,
   "metadata": {
    "colab": {
     "base_uri": "https://localhost:8080/"
    },
    "id": "VG6CK4g76UsX",
    "outputId": "928d56fe-7bf0-4012-9ac8-adeee7516614"
   },
   "outputs": [
    {
     "name": "stdout",
     "output_type": "stream",
     "text": [
      "Looking in indexes: https://pypi.org/simple, https://us-python.pkg.dev/colab-wheels/public/simple/\n",
      "Requirement already satisfied: razdel in /usr/local/lib/python3.10/dist-packages (0.5.0)\n"
     ]
    }
   ],
   "source": [
    "!pip install razdel"
   ]
  },
  {
   "cell_type": "code",
   "execution_count": 3,
   "metadata": {
    "colab": {
     "base_uri": "https://localhost:8080/"
    },
    "id": "8gk0PApq6cnY",
    "outputId": "2a2752b5-0108-4b19-b4df-66c70d20de15"
   },
   "outputs": [
    {
     "name": "stdout",
     "output_type": "stream",
     "text": [
      "Looking in indexes: https://pypi.org/simple, https://us-python.pkg.dev/colab-wheels/public/simple/\n",
      "Requirement already satisfied: rouge in /usr/local/lib/python3.10/dist-packages (1.0.1)\n",
      "Requirement already satisfied: six in /usr/local/lib/python3.10/dist-packages (from rouge) (1.16.0)\n"
     ]
    }
   ],
   "source": [
    "!pip install rouge"
   ]
  },
  {
   "cell_type": "code",
   "execution_count": 4,
   "metadata": {
    "colab": {
     "base_uri": "https://localhost:8080/"
    },
    "id": "x10_2w55Drhk",
    "outputId": "f7aceb6d-32a4-477f-9a37-3e3b3dd5a5f4"
   },
   "outputs": [
    {
     "name": "stdout",
     "output_type": "stream",
     "text": [
      "Looking in indexes: https://pypi.org/simple, https://us-python.pkg.dev/colab-wheels/public/simple/\n",
      "Requirement already satisfied: transformers in /usr/local/lib/python3.10/dist-packages (4.29.2)\n",
      "Requirement already satisfied: filelock in /usr/local/lib/python3.10/dist-packages (from transformers) (3.12.0)\n",
      "Requirement already satisfied: huggingface-hub<1.0,>=0.14.1 in /usr/local/lib/python3.10/dist-packages (from transformers) (0.14.1)\n",
      "Requirement already satisfied: numpy>=1.17 in /usr/local/lib/python3.10/dist-packages (from transformers) (1.22.4)\n",
      "Requirement already satisfied: packaging>=20.0 in /usr/local/lib/python3.10/dist-packages (from transformers) (23.1)\n",
      "Requirement already satisfied: pyyaml>=5.1 in /usr/local/lib/python3.10/dist-packages (from transformers) (6.0)\n",
      "Requirement already satisfied: regex!=2019.12.17 in /usr/local/lib/python3.10/dist-packages (from transformers) (2022.10.31)\n",
      "Requirement already satisfied: requests in /usr/local/lib/python3.10/dist-packages (from transformers) (2.27.1)\n",
      "Requirement already satisfied: tokenizers!=0.11.3,<0.14,>=0.11.1 in /usr/local/lib/python3.10/dist-packages (from transformers) (0.13.3)\n",
      "Requirement already satisfied: tqdm>=4.27 in /usr/local/lib/python3.10/dist-packages (from transformers) (4.65.0)\n",
      "Requirement already satisfied: fsspec in /usr/local/lib/python3.10/dist-packages (from huggingface-hub<1.0,>=0.14.1->transformers) (2023.4.0)\n",
      "Requirement already satisfied: typing-extensions>=3.7.4.3 in /usr/local/lib/python3.10/dist-packages (from huggingface-hub<1.0,>=0.14.1->transformers) (4.5.0)\n",
      "Requirement already satisfied: urllib3<1.27,>=1.21.1 in /usr/local/lib/python3.10/dist-packages (from requests->transformers) (1.26.15)\n",
      "Requirement already satisfied: certifi>=2017.4.17 in /usr/local/lib/python3.10/dist-packages (from requests->transformers) (2022.12.7)\n",
      "Requirement already satisfied: charset-normalizer~=2.0.0 in /usr/local/lib/python3.10/dist-packages (from requests->transformers) (2.0.12)\n",
      "Requirement already satisfied: idna<4,>=2.5 in /usr/local/lib/python3.10/dist-packages (from requests->transformers) (3.4)\n"
     ]
    }
   ],
   "source": [
    "!pip install transformers"
   ]
  },
  {
   "cell_type": "code",
   "execution_count": 5,
   "metadata": {
    "colab": {
     "base_uri": "https://localhost:8080/"
    },
    "id": "rhRGBBBEESna",
    "outputId": "912b24fa-a26b-4e4c-9f84-f07cff53866c"
   },
   "outputs": [
    {
     "name": "stdout",
     "output_type": "stream",
     "text": [
      "Looking in indexes: https://pypi.org/simple, https://us-python.pkg.dev/colab-wheels/public/simple/\n",
      "Requirement already satisfied: sentencepiece in /usr/local/lib/python3.10/dist-packages (0.1.99)\n"
     ]
    }
   ],
   "source": [
    "!pip install sentencepiece"
   ]
  },
  {
   "cell_type": "code",
   "execution_count": 6,
   "metadata": {
    "id": "mx3p25xr62ci"
   },
   "outputs": [],
   "source": [
    "from nltk.translate.bleu_score import corpus_bleu\n",
    "from rouge import Rouge\n",
    "import razdel"
   ]
  },
  {
   "cell_type": "markdown",
   "metadata": {
    "id": "S0-OWQQkHQ6W"
   },
   "source": [
    "Загрузка и преобразование данных:"
   ]
  },
  {
   "cell_type": "code",
   "execution_count": 7,
   "metadata": {
    "id": "KZzH1bCFuGZK"
   },
   "outputs": [],
   "source": [
    "!wget -q https://www.dropbox.com/s/43l702z5a5i2w8j/gazeta_train.txt\n",
    "!wget -q https://www.dropbox.com/s/k2egt3sug0hb185/gazeta_val.txt\n",
    "!wget -q https://www.dropbox.com/s/3gki5n5djs9w0v6/gazeta_test.txt"
   ]
  },
  {
   "cell_type": "code",
   "execution_count": 8,
   "metadata": {
    "id": "rcAMCr0_uGb2"
   },
   "outputs": [],
   "source": [
    "def read_gazeta_records(file_name, shuffle=True, sort_by_date=False):\n",
    "    assert shuffle != sort_by_date\n",
    "    records = []\n",
    "    with open(file_name, \"r\") as r:\n",
    "        for line in r:\n",
    "            records.append(json.loads(line))\n",
    "    if sort_by_date:\n",
    "        records.sort(key=lambda x: x[\"date\"])\n",
    "    if shuffle:\n",
    "        random.shuffle\n",
    "    return records"
   ]
  },
  {
   "cell_type": "code",
   "execution_count": 9,
   "metadata": {
    "id": "cTpiyvNd5e6x"
   },
   "outputs": [],
   "source": [
    "train_records = read_gazeta_records(\"gazeta_train.txt\")\n",
    "val_records = read_gazeta_records(\"gazeta_val.txt\")\n",
    "test_records = read_gazeta_records(\"gazeta_test.txt\")"
   ]
  },
  {
   "cell_type": "markdown",
   "metadata": {
    "id": "iAwHB2BiHKzL"
   },
   "source": [
    "Функции метрик:"
   ]
  },
  {
   "cell_type": "code",
   "execution_count": 10,
   "metadata": {
    "id": "oUOEo2O55w1f"
   },
   "outputs": [],
   "source": [
    "def calc_scores(references, predictions, metric=\"all\"):\n",
    "    print(\"Count:\", len(predictions))\n",
    "    print(\"Ref:\", references[-1])\n",
    "    print(\"Hyp:\", predictions[-1])\n",
    "\n",
    "    if metric in (\"bleu\", \"all\"):\n",
    "        print(\"BLEU: \", corpus_bleu([[r] for r in references], predictions))\n",
    "    if metric in (\"rouge\", \"all\"):\n",
    "        rouge = Rouge()\n",
    "        scores = rouge.get_scores(predictions, references, avg=True)\n",
    "        print(\"ROUGE: \", scores)"
   ]
  },
  {
   "cell_type": "code",
   "execution_count": 11,
   "metadata": {
    "colab": {
     "base_uri": "https://localhost:8080/"
    },
    "id": "mJrmcZGN5w32",
    "outputId": "f4d9623e-2cbd-4f27-9193-a4152774539f"
   },
   "outputs": [
    {
     "name": "stdout",
     "output_type": "stream",
     "text": [
      "Count: 1000\n",
      "Ref: телеканал «спас» запускает реалити-шоу «остров», участникам которого предстоит месяц жить и работать в нило-столобенской пустыни на озере селигер. организаторы отметили, что это беспрецедентный подобный проект на телевидении. участникам шоу будет, где поработать — в монастыре работают свечной, молочный и столярный цеха, есть коровник, конюшня, пасека.\n",
      "Hyp: православный телеканал «спас», учредителем которого является московская патриархия, запускает реалити-шоу «остров», участникам которого предстоит месяц жить и работать в нило-столобенской пустыни на озере селигер в тверской области.\n",
      "BLEU:  0.19177311186434495\n",
      "ROUGE:  {'rouge-1': {'r': 0.37762764047433917, 'p': 0.22208274285774904, 'f': 0.23804097238957525}, 'rouge-2': {'r': 0.15833772153385062, 'p': 0.09647636782929753, 'f': 0.10027796832321115}, 'rouge-l': {'r': 0.34937017731940756, 'p': 0.2022959168891477, 'f': 0.21799992093276083}}\n"
     ]
    }
   ],
   "source": [
    "def calc_lead_n_score(records, summary_col = 'summary', n=3, lower=True, nrows=1000):\n",
    "    references = []\n",
    "    predictions = []\n",
    "\n",
    "    for i, record in enumerate(records):\n",
    "        if i >= nrows:\n",
    "            break\n",
    "\n",
    "        summary = record[summary_col]\n",
    "        summary = summary if not lower else summary.lower()\n",
    "        references.append(summary)\n",
    "\n",
    "        text = record[\"text\"]\n",
    "        text = text if not lower else text.lower()\n",
    "        sentences = [sentence.text for sentence in razdel.sentenize(text)]\n",
    "        prediction = \" \".join(sentences[:n])\n",
    "        predictions.append(prediction)\n",
    "\n",
    "    calc_scores(references, predictions)\n",
    "\n",
    "calc_lead_n_score(test_records, n=1)"
   ]
  },
  {
   "cell_type": "markdown",
   "metadata": {
    "id": "Np75KMFTHCB5"
   },
   "source": [
    "Загрузка модели и функция суммаризации:"
   ]
  },
  {
   "cell_type": "code",
   "execution_count": 12,
   "metadata": {
    "id": "k1SAxczn5w6P"
   },
   "outputs": [],
   "source": [
    "from transformers import T5ForConditionalGeneration, T5Tokenizer\n",
    "mod = 'cointegrated/rut5-base-absum'\n",
    "model = T5ForConditionalGeneration.from_pretrained(mod)\n",
    "tokenizer = T5Tokenizer.from_pretrained(mod)\n",
    "model.eval();\n",
    "\n",
    "def summarize(\n",
    "    text, n_words=None, compression=None,\n",
    "    max_length=1000, num_beams=3, do_sample=False, repetition_penalty=10.0, \n",
    "    **kwargs\n",
    "):\n",
    "\n",
    "    if n_words:\n",
    "        text = '[{}] '.format(n_words) + text\n",
    "    elif compression:\n",
    "        text = '[{0:.1g}] '.format(compression) + text\n",
    "    x = tokenizer(text, return_tensors='pt', padding=True).to(model.device)\n",
    "    with torch.inference_mode():\n",
    "        out = model.generate(\n",
    "            **x, \n",
    "            max_length=max_length, num_beams=num_beams, \n",
    "            do_sample=do_sample, repetition_penalty=repetition_penalty, \n",
    "            **kwargs\n",
    "        )\n",
    "    return tokenizer.decode(out[0], skip_special_tokens=True)"
   ]
  },
  {
   "cell_type": "markdown",
   "metadata": {
    "id": "6qjqSZNMG-al"
   },
   "source": [
    "Тестирование суммаризации:"
   ]
  },
  {
   "cell_type": "code",
   "execution_count": 13,
   "metadata": {
    "id": "WTsCf2015w8o"
   },
   "outputs": [],
   "source": [
    "summarize_pred_test = summarize(test_records[0]['text'], len(test_records[0]['summary'].split()))"
   ]
  },
  {
   "cell_type": "code",
   "execution_count": 14,
   "metadata": {
    "colab": {
     "base_uri": "https://localhost:8080/",
     "height": 36
    },
    "id": "xeqc19Ig5w_D",
    "outputId": "f22a7b0d-1d5a-4bc2-feae-7b92d5e60481"
   },
   "outputs": [
    {
     "data": {
      "application/vnd.google.colaboratory.intrinsic+json": {
       "type": "string"
      },
      "text/plain": [
       "'Американское аэрокосмическое агентство NASA объявило названия четырех космических миссий, которые в скором времени могут быть выбраны для реализации.'"
      ]
     },
     "execution_count": 14,
     "metadata": {},
     "output_type": "execute_result"
    }
   ],
   "source": [
    "summarize_pred_test"
   ]
  },
  {
   "cell_type": "code",
   "execution_count": 15,
   "metadata": {
    "colab": {
     "base_uri": "https://localhost:8080/",
     "height": 53
    },
    "id": "mdo9yqXU5xBM",
    "outputId": "d92f314f-e498-4c78-afe0-7fb62aab85c8"
   },
   "outputs": [
    {
     "data": {
      "application/vnd.google.colaboratory.intrinsic+json": {
       "type": "string"
      },
      "text/plain": [
       "'В NASA назвали четыре миссии в дальний космос, которые в этом десятилетии могут быть запущены американцами. Среди них — две миссии по изучению Венеры, полет к спутнику Юпитера и экспедиция к Тритону, спутнику Нептуна.'"
      ]
     },
     "execution_count": 15,
     "metadata": {},
     "output_type": "execute_result"
    }
   ],
   "source": [
    "test_records[0]['summary']"
   ]
  },
  {
   "cell_type": "markdown",
   "metadata": {
    "id": "MCI0__wfHxQ6"
   },
   "source": [
    "Создание датасета из данных:"
   ]
  },
  {
   "cell_type": "code",
   "execution_count": 16,
   "metadata": {
    "id": "aj2wz7DNFk2R"
   },
   "outputs": [],
   "source": [
    "df_txt = pd.DataFrame(test_records)"
   ]
  },
  {
   "cell_type": "code",
   "execution_count": 17,
   "metadata": {
    "id": "bJDipeLPFk4s"
   },
   "outputs": [],
   "source": [
    "df_summ = df_txt[:10]"
   ]
  },
  {
   "cell_type": "code",
   "execution_count": 18,
   "metadata": {
    "colab": {
     "base_uri": "https://localhost:8080/"
    },
    "id": "FDd5f-MlFk64",
    "outputId": "86d99ae5-1a9d-4854-d3f5-d7240be5f20a"
   },
   "outputs": [
    {
     "name": "stderr",
     "output_type": "stream",
     "text": [
      "<ipython-input-18-66f2bf1d4ad8>:1: SettingWithCopyWarning: \n",
      "A value is trying to be set on a copy of a slice from a DataFrame.\n",
      "Try using .loc[row_indexer,col_indexer] = value instead\n",
      "\n",
      "See the caveats in the documentation: https://pandas.pydata.org/pandas-docs/stable/user_guide/indexing.html#returning-a-view-versus-a-copy\n",
      "  df_summ['summary_pred'] = df_summ.apply(lambda x: summarize(x['text'], len(x['summary'].split())), axis=1)\n"
     ]
    }
   ],
   "source": [
    "df_summ['summary_pred'] = df_summ.apply(lambda x: summarize(x['text'], len(x['summary'].split())), axis=1)"
   ]
  },
  {
   "cell_type": "code",
   "execution_count": 19,
   "metadata": {
    "colab": {
     "base_uri": "https://localhost:8080/",
     "height": 632
    },
    "id": "-O1Y-rMcFk9Y",
    "outputId": "702d851e-7cc8-4cd4-dc77-43925add159b"
   },
   "outputs": [
    {
     "data": {
      "text/html": [
       "\n",
       "  <div id=\"df-81e041f6-bcdc-41f2-b957-be6b3caa768f\">\n",
       "    <div class=\"colab-df-container\">\n",
       "      <div>\n",
       "<style scoped>\n",
       "    .dataframe tbody tr th:only-of-type {\n",
       "        vertical-align: middle;\n",
       "    }\n",
       "\n",
       "    .dataframe tbody tr th {\n",
       "        vertical-align: top;\n",
       "    }\n",
       "\n",
       "    .dataframe thead th {\n",
       "        text-align: right;\n",
       "    }\n",
       "</style>\n",
       "<table border=\"1\" class=\"dataframe\">\n",
       "  <thead>\n",
       "    <tr style=\"text-align: right;\">\n",
       "      <th></th>\n",
       "      <th>url</th>\n",
       "      <th>text</th>\n",
       "      <th>title</th>\n",
       "      <th>summary</th>\n",
       "      <th>date</th>\n",
       "      <th>summary_pred</th>\n",
       "    </tr>\n",
       "  </thead>\n",
       "  <tbody>\n",
       "    <tr>\n",
       "      <th>0</th>\n",
       "      <td>https://www.gazeta.ru/science/2020/02/14_a_129...</td>\n",
       "      <td>Американское аэрокосмическое агентство NASA ог...</td>\n",
       "      <td>Венера, Ио или Тритон: куда полетит NASA</td>\n",
       "      <td>В NASA назвали четыре миссии в дальний космос,...</td>\n",
       "      <td>2020-02-14 16:39:11</td>\n",
       "      <td>Американское аэрокосмическое агентство NASA об...</td>\n",
       "    </tr>\n",
       "    <tr>\n",
       "      <th>1</th>\n",
       "      <td>https://www.gazeta.ru/social/2020/02/28/129806...</td>\n",
       "      <td>Около 11 тысяч зрителей увидели все самое лучш...</td>\n",
       "      <td>«Люди в Бурятии очень талантливые»</td>\n",
       "      <td>25 и 26 февраля в Кремлевском дворце съездов п...</td>\n",
       "      <td>2020-02-28 10:44:13</td>\n",
       "      <td>В Бурятии прошел праздничный концерт «Танцуют ...</td>\n",
       "    </tr>\n",
       "    <tr>\n",
       "      <th>2</th>\n",
       "      <td>https://www.gazeta.ru/politics/2019/11/07_a_12...</td>\n",
       "      <td>7 ноября в Белоруссии прошли выборы членов сов...</td>\n",
       "      <td>Вспомнить СССР: как Лукашенко провел выборы</td>\n",
       "      <td>В Белоруссии в день годовщины Октябрьской рево...</td>\n",
       "      <td>2019-11-07 19:55:08</td>\n",
       "      <td>В Белоруссии впервые прошли выборы членов сове...</td>\n",
       "    </tr>\n",
       "    <tr>\n",
       "      <th>3</th>\n",
       "      <td>https://www.gazeta.ru/culture/2020/03/01/a_129...</td>\n",
       "      <td>Народная артистка РСФСР Надежда Бабкина в инте...</td>\n",
       "      <td>«Он очень переживал»: Бабкина об отношениях с ...</td>\n",
       "      <td>Народная артистка РСФСР Надежда Бабкина в инте...</td>\n",
       "      <td>2020-03-01 16:50:06</td>\n",
       "      <td>Надежда Бабкина рассказала, как ей удалось сбр...</td>\n",
       "    </tr>\n",
       "    <tr>\n",
       "      <th>4</th>\n",
       "      <td>https://www.gazeta.ru/business/2020/02/06/1294...</td>\n",
       "      <td>Депутат Верховной рады от партии «Слуга народа...</td>\n",
       "      <td>«Поддерживают Россию»: почему Киев не платит п...</td>\n",
       "      <td>Украина не должна выплачивать пенсии жителям Д...</td>\n",
       "      <td>2020-02-06 12:41:24</td>\n",
       "      <td>В Верховной Раде раскритиковали законопроект о...</td>\n",
       "    </tr>\n",
       "    <tr>\n",
       "      <th>5</th>\n",
       "      <td>https://www.gazeta.ru/army/2019/11/13/12810158...</td>\n",
       "      <td>Журналист Питер Суппли Бенсон датского издания...</td>\n",
       "      <td>«Новый кулак в Арктике»: в Дании испугались «И...</td>\n",
       "      <td>Датского журналиста обеспокоила активность Рос...</td>\n",
       "      <td>2019-11-13 13:03:37</td>\n",
       "      <td>Журналист Питер Суппли Бенсон назвал «новым ку...</td>\n",
       "    </tr>\n",
       "    <tr>\n",
       "      <th>6</th>\n",
       "      <td>https://www.gazeta.ru/politics/2019/10/03_a_12...</td>\n",
       "      <td>Выступление главы российской делегации Петра Т...</td>\n",
       "      <td>«Смотрите, что у вас происходит»: как прервали...</td>\n",
       "      <td>Активист сорвал выступление главы делегации РФ...</td>\n",
       "      <td>2019-10-03 20:46:08</td>\n",
       "      <td>На заседании Парламентской ассамблеи Совета Ев...</td>\n",
       "    </tr>\n",
       "    <tr>\n",
       "      <th>7</th>\n",
       "      <td>https://www.gazeta.ru/politics/2020/01/03_a_12...</td>\n",
       "      <td>Самые известные российские пранкеры Владимир «...</td>\n",
       "      <td>Именем Греты Тунберг: Вован и Лексус разыграли...</td>\n",
       "      <td>Пранкеры Вован и Лексус разыграли члена конгре...</td>\n",
       "      <td>2020-01-03 19:25:16</td>\n",
       "      <td>Российские пранкеры Владимир «Вован» Кузнецов ...</td>\n",
       "    </tr>\n",
       "    <tr>\n",
       "      <th>8</th>\n",
       "      <td>https://www.gazeta.ru/culture/2019/11/06/a_127...</td>\n",
       "      <td>Российский актер и театральный педагог Виталий...</td>\n",
       "      <td>Умер актер сериала «Улицы разбитых фонарей»</td>\n",
       "      <td>Актер сериала «Улицы разбитых фонарей» Виталий...</td>\n",
       "      <td>2019-11-06 14:17:33</td>\n",
       "      <td>Российский актер Виталий Жигалин ушел из жизни...</td>\n",
       "    </tr>\n",
       "    <tr>\n",
       "      <th>9</th>\n",
       "      <td>https://www.gazeta.ru/business/2020/01/23/1292...</td>\n",
       "      <td>Госдума одобрила в первом чтении внесенные пре...</td>\n",
       "      <td>Дождались: работающим пенсионерам восстановят ...</td>\n",
       "      <td>Работающие пенсионеры дождались индексации. Эт...</td>\n",
       "      <td>2020-01-23 19:32:12</td>\n",
       "      <td>Госдума одобрила в первом чтении поправки в Ко...</td>\n",
       "    </tr>\n",
       "  </tbody>\n",
       "</table>\n",
       "</div>\n",
       "      <button class=\"colab-df-convert\" onclick=\"convertToInteractive('df-81e041f6-bcdc-41f2-b957-be6b3caa768f')\"\n",
       "              title=\"Convert this dataframe to an interactive table.\"\n",
       "              style=\"display:none;\">\n",
       "        \n",
       "  <svg xmlns=\"http://www.w3.org/2000/svg\" height=\"24px\"viewBox=\"0 0 24 24\"\n",
       "       width=\"24px\">\n",
       "    <path d=\"M0 0h24v24H0V0z\" fill=\"none\"/>\n",
       "    <path d=\"M18.56 5.44l.94 2.06.94-2.06 2.06-.94-2.06-.94-.94-2.06-.94 2.06-2.06.94zm-11 1L8.5 8.5l.94-2.06 2.06-.94-2.06-.94L8.5 2.5l-.94 2.06-2.06.94zm10 10l.94 2.06.94-2.06 2.06-.94-2.06-.94-.94-2.06-.94 2.06-2.06.94z\"/><path d=\"M17.41 7.96l-1.37-1.37c-.4-.4-.92-.59-1.43-.59-.52 0-1.04.2-1.43.59L10.3 9.45l-7.72 7.72c-.78.78-.78 2.05 0 2.83L4 21.41c.39.39.9.59 1.41.59.51 0 1.02-.2 1.41-.59l7.78-7.78 2.81-2.81c.8-.78.8-2.07 0-2.86zM5.41 20L4 18.59l7.72-7.72 1.47 1.35L5.41 20z\"/>\n",
       "  </svg>\n",
       "      </button>\n",
       "      \n",
       "  <style>\n",
       "    .colab-df-container {\n",
       "      display:flex;\n",
       "      flex-wrap:wrap;\n",
       "      gap: 12px;\n",
       "    }\n",
       "\n",
       "    .colab-df-convert {\n",
       "      background-color: #E8F0FE;\n",
       "      border: none;\n",
       "      border-radius: 50%;\n",
       "      cursor: pointer;\n",
       "      display: none;\n",
       "      fill: #1967D2;\n",
       "      height: 32px;\n",
       "      padding: 0 0 0 0;\n",
       "      width: 32px;\n",
       "    }\n",
       "\n",
       "    .colab-df-convert:hover {\n",
       "      background-color: #E2EBFA;\n",
       "      box-shadow: 0px 1px 2px rgba(60, 64, 67, 0.3), 0px 1px 3px 1px rgba(60, 64, 67, 0.15);\n",
       "      fill: #174EA6;\n",
       "    }\n",
       "\n",
       "    [theme=dark] .colab-df-convert {\n",
       "      background-color: #3B4455;\n",
       "      fill: #D2E3FC;\n",
       "    }\n",
       "\n",
       "    [theme=dark] .colab-df-convert:hover {\n",
       "      background-color: #434B5C;\n",
       "      box-shadow: 0px 1px 3px 1px rgba(0, 0, 0, 0.15);\n",
       "      filter: drop-shadow(0px 1px 2px rgba(0, 0, 0, 0.3));\n",
       "      fill: #FFFFFF;\n",
       "    }\n",
       "  </style>\n",
       "\n",
       "      <script>\n",
       "        const buttonEl =\n",
       "          document.querySelector('#df-81e041f6-bcdc-41f2-b957-be6b3caa768f button.colab-df-convert');\n",
       "        buttonEl.style.display =\n",
       "          google.colab.kernel.accessAllowed ? 'block' : 'none';\n",
       "\n",
       "        async function convertToInteractive(key) {\n",
       "          const element = document.querySelector('#df-81e041f6-bcdc-41f2-b957-be6b3caa768f');\n",
       "          const dataTable =\n",
       "            await google.colab.kernel.invokeFunction('convertToInteractive',\n",
       "                                                     [key], {});\n",
       "          if (!dataTable) return;\n",
       "\n",
       "          const docLinkHtml = 'Like what you see? Visit the ' +\n",
       "            '<a target=\"_blank\" href=https://colab.research.google.com/notebooks/data_table.ipynb>data table notebook</a>'\n",
       "            + ' to learn more about interactive tables.';\n",
       "          element.innerHTML = '';\n",
       "          dataTable['output_type'] = 'display_data';\n",
       "          await google.colab.output.renderOutput(dataTable, element);\n",
       "          const docLink = document.createElement('div');\n",
       "          docLink.innerHTML = docLinkHtml;\n",
       "          element.appendChild(docLink);\n",
       "        }\n",
       "      </script>\n",
       "    </div>\n",
       "  </div>\n",
       "  "
      ],
      "text/plain": [
       "                                                 url  \\\n",
       "0  https://www.gazeta.ru/science/2020/02/14_a_129...   \n",
       "1  https://www.gazeta.ru/social/2020/02/28/129806...   \n",
       "2  https://www.gazeta.ru/politics/2019/11/07_a_12...   \n",
       "3  https://www.gazeta.ru/culture/2020/03/01/a_129...   \n",
       "4  https://www.gazeta.ru/business/2020/02/06/1294...   \n",
       "5  https://www.gazeta.ru/army/2019/11/13/12810158...   \n",
       "6  https://www.gazeta.ru/politics/2019/10/03_a_12...   \n",
       "7  https://www.gazeta.ru/politics/2020/01/03_a_12...   \n",
       "8  https://www.gazeta.ru/culture/2019/11/06/a_127...   \n",
       "9  https://www.gazeta.ru/business/2020/01/23/1292...   \n",
       "\n",
       "                                                text  \\\n",
       "0  Американское аэрокосмическое агентство NASA ог...   \n",
       "1  Около 11 тысяч зрителей увидели все самое лучш...   \n",
       "2  7 ноября в Белоруссии прошли выборы членов сов...   \n",
       "3  Народная артистка РСФСР Надежда Бабкина в инте...   \n",
       "4  Депутат Верховной рады от партии «Слуга народа...   \n",
       "5  Журналист Питер Суппли Бенсон датского издания...   \n",
       "6  Выступление главы российской делегации Петра Т...   \n",
       "7  Самые известные российские пранкеры Владимир «...   \n",
       "8  Российский актер и театральный педагог Виталий...   \n",
       "9  Госдума одобрила в первом чтении внесенные пре...   \n",
       "\n",
       "                                               title  \\\n",
       "0           Венера, Ио или Тритон: куда полетит NASA   \n",
       "1                 «Люди в Бурятии очень талантливые»   \n",
       "2        Вспомнить СССР: как Лукашенко провел выборы   \n",
       "3  «Он очень переживал»: Бабкина об отношениях с ...   \n",
       "4  «Поддерживают Россию»: почему Киев не платит п...   \n",
       "5  «Новый кулак в Арктике»: в Дании испугались «И...   \n",
       "6  «Смотрите, что у вас происходит»: как прервали...   \n",
       "7  Именем Греты Тунберг: Вован и Лексус разыграли...   \n",
       "8        Умер актер сериала «Улицы разбитых фонарей»   \n",
       "9  Дождались: работающим пенсионерам восстановят ...   \n",
       "\n",
       "                                             summary                 date  \\\n",
       "0  В NASA назвали четыре миссии в дальний космос,...  2020-02-14 16:39:11   \n",
       "1  25 и 26 февраля в Кремлевском дворце съездов п...  2020-02-28 10:44:13   \n",
       "2  В Белоруссии в день годовщины Октябрьской рево...  2019-11-07 19:55:08   \n",
       "3  Народная артистка РСФСР Надежда Бабкина в инте...  2020-03-01 16:50:06   \n",
       "4  Украина не должна выплачивать пенсии жителям Д...  2020-02-06 12:41:24   \n",
       "5  Датского журналиста обеспокоила активность Рос...  2019-11-13 13:03:37   \n",
       "6  Активист сорвал выступление главы делегации РФ...  2019-10-03 20:46:08   \n",
       "7  Пранкеры Вован и Лексус разыграли члена конгре...  2020-01-03 19:25:16   \n",
       "8  Актер сериала «Улицы разбитых фонарей» Виталий...  2019-11-06 14:17:33   \n",
       "9  Работающие пенсионеры дождались индексации. Эт...  2020-01-23 19:32:12   \n",
       "\n",
       "                                        summary_pred  \n",
       "0  Американское аэрокосмическое агентство NASA об...  \n",
       "1  В Бурятии прошел праздничный концерт «Танцуют ...  \n",
       "2  В Белоруссии впервые прошли выборы членов сове...  \n",
       "3  Надежда Бабкина рассказала, как ей удалось сбр...  \n",
       "4  В Верховной Раде раскритиковали законопроект о...  \n",
       "5  Журналист Питер Суппли Бенсон назвал «новым ку...  \n",
       "6  На заседании Парламентской ассамблеи Совета Ев...  \n",
       "7  Российские пранкеры Владимир «Вован» Кузнецов ...  \n",
       "8  Российский актер Виталий Жигалин ушел из жизни...  \n",
       "9  Госдума одобрила в первом чтении поправки в Ко...  "
      ]
     },
     "execution_count": 19,
     "metadata": {},
     "output_type": "execute_result"
    }
   ],
   "source": [
    "df_summ"
   ]
  },
  {
   "cell_type": "markdown",
   "metadata": {
    "id": "6ojWJoXqlrKZ"
   },
   "source": [
    "Функция подсчета метрик для датафрейма:"
   ]
  },
  {
   "cell_type": "code",
   "execution_count": 20,
   "metadata": {
    "id": "a4dc-RnQlWPd"
   },
   "outputs": [],
   "source": [
    "def calc_lead_n_score_df(records, summary_col = 'summary', n=3, lower=True, nrows=1000):\n",
    "    references = []\n",
    "    predictions = []\n",
    "\n",
    "    for i, record in records.iterrows():\n",
    "        if i >= nrows:\n",
    "            break\n",
    "\n",
    "        summary = record[summary_col]\n",
    "        summary = summary if not lower else summary.lower()\n",
    "        references.append(summary)\n",
    "\n",
    "        text = record[\"text\"]\n",
    "        text = text if not lower else text.lower()\n",
    "        sentences = [sentence.text for sentence in razdel.sentenize(text)]\n",
    "        prediction = \" \".join(sentences[:n])\n",
    "        predictions.append(prediction)\n",
    "\n",
    "    calc_scores(references, predictions)"
   ]
  },
  {
   "cell_type": "markdown",
   "metadata": {
    "id": "MnlkyKJ-qU0I"
   },
   "source": [
    "Результаты:"
   ]
  },
  {
   "cell_type": "code",
   "execution_count": 29,
   "metadata": {
    "colab": {
     "base_uri": "https://localhost:8080/"
    },
    "id": "rmEBi2UGp6EX",
    "outputId": "058dd947-91d8-4b7a-9d41-0c427a1741a8"
   },
   "outputs": [
    {
     "name": "stdout",
     "output_type": "stream",
     "text": [
      "Count: 1\n",
      "Ref: 25 и 26 февраля в кремлевском дворце съездов праздновали сагаалган — восточный новый год. бурятия - центр российского буддизма и один из немногих регионов страны, где новый год встречают официально дважды.\n",
      "Hyp: около 11 тысяч зрителей увидели все самое лучшее, что есть на сегодняшний день в культуре бурятии. в кремле выступил бурятский государственный академический театр оперы и балета, национальный цирк, бурятский национальный театр песни и танца «байкал», ставший победителем шоу «танцуют все!» на телеканале «россия», а также другие профессиональные и самодеятельные коллективы региона. более 300 артистов из одного региона на главной сцене страны - похоже это рекорд россии. зрителям рассказали, что республике бурятия, чье население составляет 1 миллион человек, сохранилась и развивается культура десятков национальностей, включая русских, бурятов, староверов (семейских), эвенков. и все они были представлены в москве. как писали после шоу зрители в соцсетях: «а мы думали, что в бурятии только буряты живут…». для неподготовленного зрителя это вообще были вечера открытий. например, когда еще в кремлевском дворце выстраивалась очередь из желающих попасть на прием к врачам-пульсологам и ламам-астрологам? а между тем буквально в паре метров можно было увидеть выставку национального музея бурятии о культуре и быте бурятского народа. и она не менее уникальна, чем китайская, или монгольская времен чингисхана. и там же современное искусство, например, знаменитые работы скульптора даши намдакова. не обошлось без политической составляющей. перед началом праздничного шоу с главной сцены страны первый заместитель руководителя администрации президента россии сергей кириенко зачитал поздравление президента российской федерации владимира путина , в котором говорилось: «сердечно поздравляю вас с наступлением нового года по лунному календарю и с наступлением белого месяца! этот светлый, особо почитаемый последователями буддизма праздник символизирует обновление природы, стремление человека к гармонии и чистоте помыслов. он обращает верующих к духовным и нравственным истокам этой древней религии, ее непреходящим устоям и ценностям. важно, что российские буддисты бережно хранят и передают из поколения в поколение традиции предков…». заместитель председателя правительства россии , полномочный представитель президента рф в дфо юрий трутнев , видимо, также был удивлен ажиотажем и аншлагом в кремле и рассказал журналистам: «я спросил у [главы бурятии] алексея цыденова, сколько людей приехало из бурятии на праздник, и он ответил: «тысяча из шести». это значит, что большая часть людей на празднике — из москвы, значит, им это интересно!». сам же цыденов в своем выступлении посетовал на то, что в россии все же мало что знают о бурятии и ее традициях, но был оптимистичен: «республика бурятия богата своей историей, своими традициями. наша цель — показать все возможности и огромный потенциал республики, чтобы не только жители бурятии, но и вся россия гордилась достижениями нашего народа. мы хотим, чтобы жители всей россии знали, что есть такая жемчужина — бурятия». небольшим, отдаленным и дотационным регионам всегда непросто быть замеченными властями. а их губернаторам и главам сложно быть ближе к высшему руководству страны по сравнению с их коллегами из более богатых субъектов. но, похоже, главе бурятии алексею цыденову удается переломить эту не самую приятную для многих регионов традицию. цыденов пришел в бурятию с поста замминистра транспорта россии без опыта управления регионом. но за три года сумел стать опытным региональным политиком, способным на неожиданные ходы. как пример, нынешние посвященные восточному новому году концерты в москве. пока другие регионы со своими местными праздниками и юбилеями стоят в очереди, чтобы «затащить» к себе руководителей страны на торжества, цыденов, наоборот, сумел привезти свой регион в москву. причем не куда-нибудь, а в самый кремль. таким образом, всего за два столичных дня бурятия решила сразу несколько задач, в том числе подтвердила свой статус буддийского лидера россии и познакомила жителей всей страны со своей богатой культурой. зрители после концерта отвечали бурятии взаимностью. можно обратить внимание лишь на некоторые высказанные в соцсетях мнения об увиденном в кремлевском дворце: «люди в бурятии очень талантливые», «вот это красота! срочно летим в бурятию», «буряты, вы крутые!», «бурятия, мы вам завидуем!».\n",
      "BLEU:  0.036567811866828774\n",
      "ROUGE:  {'rouge-1': {'r': 0.35714285714285715, 'p': 0.02364066193853428, 'f': 0.04434589683983858}, 'rouge-2': {'r': 0.06896551724137931, 'p': 0.003436426116838488, 'f': 0.006546643940308868}, 'rouge-l': {'r': 0.32142857142857145, 'p': 0.02127659574468085, 'f': 0.03991130703939512}}\n"
     ]
    }
   ],
   "source": [
    "calc_lead_n_score_df(df_summ.iloc[1:2], n=10)"
   ]
  },
  {
   "cell_type": "code",
   "execution_count": 30,
   "metadata": {
    "colab": {
     "base_uri": "https://localhost:8080/"
    },
    "id": "R8xFuXTup-DR",
    "outputId": "10bbb47d-ebbe-4cbf-c134-0bdf6de16113"
   },
   "outputs": [
    {
     "name": "stdout",
     "output_type": "stream",
     "text": [
      "Count: 1\n",
      "Ref: в бурятии прошел праздничный концерт «танцуют все!» на телеканале «россия»\n",
      "Hyp: около 11 тысяч зрителей увидели все самое лучшее, что есть на сегодняшний день в культуре бурятии. в кремле выступил бурятский государственный академический театр оперы и балета, национальный цирк, бурятский национальный театр песни и танца «байкал», ставший победителем шоу «танцуют все!» на телеканале «россия», а также другие профессиональные и самодеятельные коллективы региона. более 300 артистов из одного региона на главной сцене страны - похоже это рекорд россии. зрителям рассказали, что республике бурятия, чье население составляет 1 миллион человек, сохранилась и развивается культура десятков национальностей, включая русских, бурятов, староверов (семейских), эвенков. и все они были представлены в москве. как писали после шоу зрители в соцсетях: «а мы думали, что в бурятии только буряты живут…». для неподготовленного зрителя это вообще были вечера открытий. например, когда еще в кремлевском дворце выстраивалась очередь из желающих попасть на прием к врачам-пульсологам и ламам-астрологам? а между тем буквально в паре метров можно было увидеть выставку национального музея бурятии о культуре и быте бурятского народа. и она не менее уникальна, чем китайская, или монгольская времен чингисхана. и там же современное искусство, например, знаменитые работы скульптора даши намдакова. не обошлось без политической составляющей. перед началом праздничного шоу с главной сцены страны первый заместитель руководителя администрации президента россии сергей кириенко зачитал поздравление президента российской федерации владимира путина , в котором говорилось: «сердечно поздравляю вас с наступлением нового года по лунному календарю и с наступлением белого месяца! этот светлый, особо почитаемый последователями буддизма праздник символизирует обновление природы, стремление человека к гармонии и чистоте помыслов. он обращает верующих к духовным и нравственным истокам этой древней религии, ее непреходящим устоям и ценностям. важно, что российские буддисты бережно хранят и передают из поколения в поколение традиции предков…». заместитель председателя правительства россии , полномочный представитель президента рф в дфо юрий трутнев , видимо, также был удивлен ажиотажем и аншлагом в кремле и рассказал журналистам: «я спросил у [главы бурятии] алексея цыденова, сколько людей приехало из бурятии на праздник, и он ответил: «тысяча из шести». это значит, что большая часть людей на празднике — из москвы, значит, им это интересно!». сам же цыденов в своем выступлении посетовал на то, что в россии все же мало что знают о бурятии и ее традициях, но был оптимистичен: «республика бурятия богата своей историей, своими традициями. наша цель — показать все возможности и огромный потенциал республики, чтобы не только жители бурятии, но и вся россия гордилась достижениями нашего народа. мы хотим, чтобы жители всей россии знали, что есть такая жемчужина — бурятия». небольшим, отдаленным и дотационным регионам всегда непросто быть замеченными властями. а их губернаторам и главам сложно быть ближе к высшему руководству страны по сравнению с их коллегами из более богатых субъектов. но, похоже, главе бурятии алексею цыденову удается переломить эту не самую приятную для многих регионов традицию. цыденов пришел в бурятию с поста замминистра транспорта россии без опыта управления регионом. но за три года сумел стать опытным региональным политиком, способным на неожиданные ходы. как пример, нынешние посвященные восточному новому году концерты в москве. пока другие регионы со своими местными праздниками и юбилеями стоят в очереди, чтобы «затащить» к себе руководителей страны на торжества, цыденов, наоборот, сумел привезти свой регион в москву. причем не куда-нибудь, а в самый кремль. таким образом, всего за два столичных дня бурятия решила сразу несколько задач, в том числе подтвердила свой статус буддийского лидера россии и познакомила жителей всей страны со своей богатой культурой. зрители после концерта отвечали бурятии взаимностью. можно обратить внимание лишь на некоторые высказанные в соцсетях мнения об увиденном в кремлевском дворце: «люди в бурятии очень талантливые», «вот это красота! срочно летим в бурятию», «буряты, вы крутые!», «бурятия, мы вам завидуем!».\n",
      "BLEU:  0.01659690685395398\n",
      "ROUGE:  {'rouge-1': {'r': 0.6, 'p': 0.014184397163120567, 'f': 0.027713625414824344}, 'rouge-2': {'r': 0.4444444444444444, 'p': 0.006872852233676976, 'f': 0.0135363787186821}, 'rouge-l': {'r': 0.6, 'p': 0.014184397163120567, 'f': 0.027713625414824344}}\n"
     ]
    }
   ],
   "source": [
    "calc_lead_n_score_df(df_summ.iloc[1:2], summary_col = 'summary_pred', n=10)"
   ]
  },
  {
   "cell_type": "markdown",
   "metadata": {
    "id": "Hi6iBBN1qe2n"
   },
   "source": [
    "**Вывод:** как видно из метрик, сгенерированный заголовок второй новости из датафрейма показал результат заметно хуже."
   ]
  },
  {
   "cell_type": "markdown",
   "metadata": {},
   "source": [
    "---"
   ]
  }
 ],
 "metadata": {
  "colab": {
   "provenance": []
  },
  "kernelspec": {
   "display_name": "Python 3 (ipykernel)",
   "language": "python",
   "name": "python3"
  },
  "language_info": {
   "codemirror_mode": {
    "name": "ipython",
    "version": 3
   },
   "file_extension": ".py",
   "mimetype": "text/x-python",
   "name": "python",
   "nbconvert_exporter": "python",
   "pygments_lexer": "ipython3",
   "version": "3.9.12"
  }
 },
 "nbformat": 4,
 "nbformat_minor": 1
}
