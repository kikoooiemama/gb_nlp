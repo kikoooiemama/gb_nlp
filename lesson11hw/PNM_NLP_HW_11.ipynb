{
 "cells": [
  {
   "cell_type": "markdown",
   "id": "20a37730",
   "metadata": {},
   "source": [
    "# Практическое задание №11 по теме \"Модель Transformer-1\"."
   ]
  },
  {
   "cell_type": "code",
   "execution_count": 1,
   "id": "95ed0fb8",
   "metadata": {},
   "outputs": [],
   "source": [
    "import tensorflow as tf\n",
    "\n",
    "import matplotlib.pyplot as plt\n",
    "import matplotlib.ticker as ticker\n",
    "from sklearn.model_selection import train_test_split\n",
    "\n",
    "import unicodedata\n",
    "import re\n",
    "import numpy as np\n",
    "import os\n",
    "import io\n",
    "import time"
   ]
  },
  {
   "cell_type": "code",
   "execution_count": 2,
   "id": "f68aa625",
   "metadata": {},
   "outputs": [],
   "source": [
    "path_to_file = \"C:/Study/fra.txt\""
   ]
  },
  {
   "cell_type": "code",
   "execution_count": 3,
   "id": "9cd9d20f",
   "metadata": {},
   "outputs": [],
   "source": [
    "def preprocess_sentence(w):\n",
    "  w = w.lower().strip()\n",
    "  w = re.sub(r\"([?.!,])\", r\" \\1 \", w)\n",
    "  w = re.sub(r'[\" \"]+', \" \", w)\n",
    "  w = re.sub(r\"[^a-zA-Zа-яА-Я?.!,']+\", \" \", w)\n",
    "  w = w.strip()\n",
    "  w = '<start> ' + w + ' <end>'\n",
    "  return w"
   ]
  },
  {
   "cell_type": "code",
   "execution_count": 4,
   "id": "8ec9e93f",
   "metadata": {},
   "outputs": [],
   "source": [
    "def create_dataset(path, num_examples):\n",
    "  lines = io.open(path, encoding='UTF-8').read().strip().split('\\n')\n",
    "  word_pairs = [[preprocess_sentence(w) for w in l.split('\\t')[:2]]  for l in lines[:num_examples]]\n",
    "  return zip(*word_pairs)"
   ]
  },
  {
   "cell_type": "code",
   "execution_count": 5,
   "id": "b4c4066b",
   "metadata": {},
   "outputs": [
    {
     "name": "stdout",
     "output_type": "stream",
     "text": [
      "<start> it may be impossible to get a completely error free corpus due to the nature of this kind of collaborative effort . however , if we encourage members to contribute sentences in their own languages rather than experiment in languages they are learning , we might be able to minimize errors . <end>\n",
      "<start> il est peut tre impossible d'obtenir un corpus compl tement d nu de fautes , tant donn e la nature de ce type d'entreprise collaborative . cependant , si nous encourageons les membres produire des phrases dans leurs propres langues plut t que d'exp rimenter dans les langues qu'ils apprennent , nous pourrions tre en mesure de r duire les erreurs . <end>\n"
     ]
    }
   ],
   "source": [
    "en, fra = create_dataset(path_to_file, None)\n",
    "print(en[-1])\n",
    "print(fra[-1])"
   ]
  },
  {
   "cell_type": "code",
   "execution_count": 6,
   "id": "5de4fe54",
   "metadata": {},
   "outputs": [],
   "source": [
    "def tokenize(lang):\n",
    "  lang_tokenizer = tf.keras.preprocessing.text.Tokenizer(filters='')\n",
    "  lang_tokenizer.fit_on_texts(lang)\n",
    "  tensor = lang_tokenizer.texts_to_sequences(lang)\n",
    "  tensor = tf.keras.preprocessing.sequence.pad_sequences(tensor,padding='post')\n",
    "  return tensor, lang_tokenizer"
   ]
  },
  {
   "cell_type": "code",
   "execution_count": 7,
   "id": "c2c5144c",
   "metadata": {},
   "outputs": [],
   "source": [
    "def load_dataset(path, num_examples=None):\n",
    "  targ_lang, inp_lang = create_dataset(path, num_examples)\n",
    "  input_tensor, inp_lang_tokenizer = tokenize(inp_lang)\n",
    "  target_tensor, targ_lang_tokenizer = tokenize(targ_lang)\n",
    "  return input_tensor, target_tensor, inp_lang_tokenizer, targ_lang_tokenizer"
   ]
  },
  {
   "cell_type": "code",
   "execution_count": 8,
   "id": "7c52ffac",
   "metadata": {},
   "outputs": [
    {
     "data": {
      "text/plain": [
       "(217975, 217975)"
      ]
     },
     "execution_count": 8,
     "metadata": {},
     "output_type": "execute_result"
    }
   ],
   "source": [
    "len(en), len(fra)"
   ]
  },
  {
   "cell_type": "code",
   "execution_count": 9,
   "id": "e819dc8b",
   "metadata": {},
   "outputs": [],
   "source": [
    "num_examples = 100000\n",
    "input_tensor, target_tensor, inp_lang, targ_lang = load_dataset(path_to_file, num_examples)\n",
    "max_length_targ, max_length_inp = target_tensor.shape[1], input_tensor.shape[1]"
   ]
  },
  {
   "cell_type": "code",
   "execution_count": 10,
   "id": "4f46bdf8",
   "metadata": {},
   "outputs": [
    {
     "name": "stdout",
     "output_type": "stream",
     "text": [
      "80000 80000 20000 20000\n"
     ]
    }
   ],
   "source": [
    "input_tensor_train, input_tensor_val, target_tensor_train, target_tensor_val = train_test_split(input_tensor, target_tensor, test_size=0.2)\n",
    "print(len(input_tensor_train), len(target_tensor_train), len(input_tensor_val), len(target_tensor_val))"
   ]
  },
  {
   "cell_type": "code",
   "execution_count": 11,
   "id": "a373cafd",
   "metadata": {},
   "outputs": [],
   "source": [
    "BUFFER_SIZE = len(input_tensor_train)\n",
    "BATCH_SIZE = 64\n",
    "steps_per_epoch = len(input_tensor_train)//BATCH_SIZE\n",
    "embedding_dim = 256\n",
    "units = 1024\n",
    "vocab_inp_size = len(inp_lang.word_index)+1\n",
    "vocab_tar_size = len(targ_lang.word_index)+1\n",
    "\n",
    "dataset = tf.data.Dataset.from_tensor_slices((input_tensor_train, target_tensor_train)).shuffle(BUFFER_SIZE)\n",
    "dataset = dataset.batch(BATCH_SIZE, drop_remainder=True)"
   ]
  },
  {
   "cell_type": "code",
   "execution_count": 12,
   "id": "fcb1c924",
   "metadata": {},
   "outputs": [
    {
     "data": {
      "text/plain": [
       "(TensorShape([64, 19]), TensorShape([64, 12]))"
      ]
     },
     "execution_count": 12,
     "metadata": {},
     "output_type": "execute_result"
    }
   ],
   "source": [
    "example_input_batch, example_target_batch = next(iter(dataset))\n",
    "example_input_batch.shape, example_target_batch.shape"
   ]
  },
  {
   "cell_type": "code",
   "execution_count": 13,
   "id": "c3920feb",
   "metadata": {},
   "outputs": [],
   "source": [
    "class Encoder(tf.keras.Model):\n",
    "  def __init__(self, vocab_size, embedding_dim, enc_units, batch_sz):\n",
    "    super(Encoder, self).__init__()\n",
    "    self.batch_sz = batch_sz\n",
    "    self.enc_units = enc_units\n",
    "    self.embedding = tf.keras.layers.Embedding(vocab_size, embedding_dim)\n",
    "    self.gru = tf.keras.layers.GRU(self.enc_units,\n",
    "                                   return_sequences=True,\n",
    "                                   return_state=True,\n",
    "                                   recurrent_initializer='glorot_uniform')\n",
    "\n",
    "  def call(self, x, hidden):\n",
    "    x = self.embedding(x)\n",
    "    output, state = self.gru(x, initial_state = hidden)\n",
    "    return output, state\n",
    "\n",
    "  def initialize_hidden_state(self):\n",
    "    return tf.zeros((self.batch_sz, self.enc_units))"
   ]
  },
  {
   "cell_type": "code",
   "execution_count": 14,
   "id": "c40aaf2d",
   "metadata": {},
   "outputs": [
    {
     "name": "stdout",
     "output_type": "stream",
     "text": [
      "Encoder output shape: (batch size, sequence length, units) (64, 19, 1024)\n",
      "Encoder Hidden state shape: (batch size, units) (64, 1024)\n"
     ]
    }
   ],
   "source": [
    "encoder = Encoder(vocab_inp_size, embedding_dim, units, BATCH_SIZE)\n",
    "\n",
    "sample_hidden = encoder.initialize_hidden_state()\n",
    "sample_output, sample_hidden = encoder(example_input_batch, sample_hidden)\n",
    "print ('Encoder output shape: (batch size, sequence length, units) {}'.format(sample_output.shape))\n",
    "print ('Encoder Hidden state shape: (batch size, units) {}'.format(sample_hidden.shape))"
   ]
  },
  {
   "cell_type": "code",
   "execution_count": 15,
   "id": "de24718f",
   "metadata": {},
   "outputs": [],
   "source": [
    "class BahdanauAttention(tf.keras.layers.Layer):\n",
    "  def __init__(self, units):\n",
    "    super(BahdanauAttention, self).__init__()\n",
    "    self.W1 = tf.keras.layers.Dense(units)\n",
    "    self.W2 = tf.keras.layers.Dense(units)\n",
    "    self.V = tf.keras.layers.Dense(1)\n",
    "\n",
    "  def call(self, query, values):\n",
    "    query_with_time_axis = tf.expand_dims(query, 1)\n",
    "    score = self.V(tf.nn.tanh(\n",
    "        self.W1(query_with_time_axis) + self.W2(values)))\n",
    "\n",
    "    attention_weights = tf.nn.softmax(score, axis=1)\n",
    "    context_vector = attention_weights * values\n",
    "    context_vector = tf.reduce_sum(context_vector, axis=1)\n",
    "\n",
    "    return context_vector, attention_weights"
   ]
  },
  {
   "cell_type": "code",
   "execution_count": 16,
   "id": "08557e32",
   "metadata": {},
   "outputs": [
    {
     "name": "stdout",
     "output_type": "stream",
     "text": [
      "Attention result shape: (batch size, units) (64, 1024)\n",
      "Attention weights shape: (batch_size, sequence_length, 1) (64, 19, 1)\n"
     ]
    }
   ],
   "source": [
    "attention_layer = BahdanauAttention(10)\n",
    "attention_result, attention_weights = attention_layer(sample_hidden, sample_output)\n",
    "\n",
    "print(\"Attention result shape: (batch size, units) {}\".format(attention_result.shape))\n",
    "print(\"Attention weights shape: (batch_size, sequence_length, 1) {}\".format(attention_weights.shape))"
   ]
  },
  {
   "cell_type": "code",
   "execution_count": 17,
   "id": "6e15df58",
   "metadata": {},
   "outputs": [],
   "source": [
    "class Decoder(tf.keras.Model):\n",
    "  def __init__(self, vocab_size, embedding_dim, dec_units, batch_sz):\n",
    "    super(Decoder, self).__init__()\n",
    "    self.batch_sz = batch_sz\n",
    "    self.dec_units = dec_units\n",
    "    self.embedding = tf.keras.layers.Embedding(vocab_size, embedding_dim)\n",
    "    self.gru = tf.keras.layers.GRU(self.dec_units,\n",
    "                                   return_sequences=True,\n",
    "                                   return_state=True,\n",
    "                                   recurrent_initializer='glorot_uniform')\n",
    "    self.fc = tf.keras.layers.Dense(vocab_size)\n",
    "\n",
    "    self.attention = BahdanauAttention(self.dec_units)\n",
    "\n",
    "  def call(self, x, hidden, enc_output):\n",
    "    context_vector, attention_weights = self.attention(hidden, enc_output)\n",
    "    x = self.embedding(x)\n",
    "    x = tf.concat([tf.expand_dims(context_vector, 1), x], axis=-1)\n",
    "    output, state = self.gru(x)\n",
    "    output = tf.reshape(output, (-1, output.shape[2]))\n",
    "    x = self.fc(output)\n",
    "\n",
    "    return x, state, attention_weights"
   ]
  },
  {
   "cell_type": "code",
   "execution_count": 18,
   "id": "724dc64c",
   "metadata": {},
   "outputs": [
    {
     "name": "stdout",
     "output_type": "stream",
     "text": [
      "Decoder output shape: (batch_size, vocab size) (64, 8865)\n"
     ]
    }
   ],
   "source": [
    "decoder = Decoder(vocab_tar_size, embedding_dim, units, BATCH_SIZE)\n",
    "sample_decoder_output, _, _ = decoder(tf.random.uniform((BATCH_SIZE, 1)),sample_hidden, sample_output)\n",
    "print ('Decoder output shape: (batch_size, vocab size) {}'.format(sample_decoder_output.shape))"
   ]
  },
  {
   "cell_type": "code",
   "execution_count": 19,
   "id": "e5ab2692",
   "metadata": {},
   "outputs": [],
   "source": [
    "optimizer = tf.keras.optimizers.Adam()\n",
    "loss_object = tf.keras.losses.SparseCategoricalCrossentropy(from_logits=True, reduction='none')\n",
    "\n",
    "def loss_function(real, pred):\n",
    "  mask = tf.math.logical_not(tf.math.equal(real, 0))\n",
    "  loss_ = loss_object(real, pred)\n",
    "  mask = tf.cast(mask, dtype=loss_.dtype)\n",
    "  loss_ *= mask\n",
    "  return tf.reduce_mean(loss_)"
   ]
  },
  {
   "cell_type": "code",
   "execution_count": 20,
   "id": "a75ae2c6",
   "metadata": {},
   "outputs": [],
   "source": [
    "checkpoint_dir = 'C:/Study/'\n",
    "checkpoint_prefix = os.path.join(checkpoint_dir, \"ckpt\")\n",
    "checkpoint = tf.train.Checkpoint(optimizer=optimizer,encoder=encoder,decoder=decoder)"
   ]
  },
  {
   "cell_type": "code",
   "execution_count": 21,
   "id": "53945108",
   "metadata": {},
   "outputs": [],
   "source": [
    "@tf.function\n",
    "def train_step(inp, targ, enc_hidden):\n",
    "  loss = 0\n",
    "\n",
    "  with tf.GradientTape() as tape:\n",
    "    enc_output, enc_hidden = encoder(inp, enc_hidden)\n",
    "    dec_hidden = enc_hidden\n",
    "    dec_input = tf.expand_dims([targ_lang.word_index['<start>']] * BATCH_SIZE, 1)\n",
    "\n",
    "    for t in range(1, targ.shape[1]):\n",
    "      predictions, dec_hidden, _ = decoder(dec_input, dec_hidden, enc_output)\n",
    "      loss += loss_function(targ[:, t], predictions)\n",
    "      dec_input = tf.expand_dims(targ[:, t], 1)\n",
    "\n",
    "  batch_loss = (loss / int(targ.shape[1]))\n",
    "  variables = encoder.trainable_variables + decoder.trainable_variables\n",
    "  gradients = tape.gradient(loss, variables)\n",
    "  optimizer.apply_gradients(zip(gradients, variables))\n",
    "\n",
    "  return batch_loss"
   ]
  },
  {
   "cell_type": "code",
   "execution_count": 22,
   "id": "77978e0f",
   "metadata": {},
   "outputs": [
    {
     "name": "stdout",
     "output_type": "stream",
     "text": [
      "Epoch 1 Batch 0 Loss 4.8999\n",
      "Epoch 1 Batch 100 Loss 2.3260\n",
      "Epoch 1 Batch 200 Loss 2.1053\n",
      "Epoch 1 Batch 300 Loss 1.8964\n",
      "Epoch 1 Batch 400 Loss 1.7412\n",
      "Epoch 1 Batch 500 Loss 1.6865\n",
      "Epoch 1 Batch 600 Loss 1.6062\n",
      "Epoch 1 Batch 700 Loss 1.4131\n",
      "Epoch 1 Batch 800 Loss 1.3909\n",
      "Epoch 1 Batch 900 Loss 1.3168\n",
      "Epoch 1 Batch 1000 Loss 1.0875\n",
      "Epoch 1 Batch 1100 Loss 1.2496\n",
      "Epoch 1 Batch 1200 Loss 0.9713\n",
      "Epoch 1 Loss 1.5889\n",
      "Time taken for 1 epoch 1949.6328341960907 sec\n",
      "\n",
      "Epoch 2 Batch 0 Loss 0.8865\n",
      "Epoch 2 Batch 100 Loss 1.1181\n",
      "Epoch 2 Batch 200 Loss 0.7811\n",
      "Epoch 2 Batch 300 Loss 0.7821\n",
      "Epoch 2 Batch 400 Loss 0.7979\n",
      "Epoch 2 Batch 500 Loss 0.8576\n",
      "Epoch 2 Batch 600 Loss 0.8238\n",
      "Epoch 2 Batch 700 Loss 0.7861\n",
      "Epoch 2 Batch 800 Loss 0.6234\n",
      "Epoch 2 Batch 900 Loss 0.7292\n",
      "Epoch 2 Batch 1000 Loss 0.6891\n",
      "Epoch 2 Batch 1100 Loss 0.7471\n",
      "Epoch 2 Batch 1200 Loss 0.6897\n",
      "Epoch 2 Loss 0.7556\n",
      "Time taken for 1 epoch 1965.7062690258026 sec\n",
      "\n",
      "Epoch 3 Batch 0 Loss 0.5294\n",
      "Epoch 3 Batch 100 Loss 0.5008\n",
      "Epoch 3 Batch 200 Loss 0.3990\n",
      "Epoch 3 Batch 300 Loss 0.3758\n",
      "Epoch 3 Batch 400 Loss 0.5969\n",
      "Epoch 3 Batch 500 Loss 0.4934\n",
      "Epoch 3 Batch 600 Loss 0.5019\n",
      "Epoch 3 Batch 700 Loss 0.3852\n",
      "Epoch 3 Batch 800 Loss 0.5378\n",
      "Epoch 3 Batch 900 Loss 0.4307\n",
      "Epoch 3 Batch 1000 Loss 0.5077\n",
      "Epoch 3 Batch 1100 Loss 0.4493\n",
      "Epoch 3 Batch 1200 Loss 0.4685\n",
      "Epoch 3 Loss 0.4488\n",
      "Time taken for 1 epoch 1960.5717351436615 sec\n",
      "\n",
      "Epoch 4 Batch 0 Loss 0.2780\n",
      "Epoch 4 Batch 100 Loss 0.2785\n",
      "Epoch 4 Batch 200 Loss 0.2535\n",
      "Epoch 4 Batch 300 Loss 0.2413\n",
      "Epoch 4 Batch 400 Loss 0.3037\n",
      "Epoch 4 Batch 500 Loss 0.2987\n",
      "Epoch 4 Batch 600 Loss 0.2647\n",
      "Epoch 4 Batch 700 Loss 0.3339\n",
      "Epoch 4 Batch 800 Loss 0.3118\n",
      "Epoch 4 Batch 900 Loss 0.3077\n",
      "Epoch 4 Batch 1000 Loss 0.2996\n",
      "Epoch 4 Batch 1100 Loss 0.2327\n",
      "Epoch 4 Batch 1200 Loss 0.2442\n",
      "Epoch 4 Loss 0.2982\n",
      "Time taken for 1 epoch 1969.9894850254059 sec\n",
      "\n",
      "Epoch 5 Batch 0 Loss 0.1877\n",
      "Epoch 5 Batch 100 Loss 0.1809\n",
      "Epoch 5 Batch 200 Loss 0.2632\n",
      "Epoch 5 Batch 300 Loss 0.2513\n",
      "Epoch 5 Batch 400 Loss 0.2062\n",
      "Epoch 5 Batch 500 Loss 0.1524\n",
      "Epoch 5 Batch 600 Loss 0.2617\n",
      "Epoch 5 Batch 700 Loss 0.2491\n",
      "Epoch 5 Batch 800 Loss 0.1986\n",
      "Epoch 5 Batch 900 Loss 0.2274\n",
      "Epoch 5 Batch 1000 Loss 0.2636\n",
      "Epoch 5 Batch 1100 Loss 0.1965\n",
      "Epoch 5 Batch 1200 Loss 0.2909\n",
      "Epoch 5 Loss 0.2166\n",
      "Time taken for 1 epoch 1958.623036623001 sec\n",
      "\n",
      "Epoch 6 Batch 0 Loss 0.1718\n",
      "Epoch 6 Batch 100 Loss 0.1458\n",
      "Epoch 6 Batch 200 Loss 0.1583\n",
      "Epoch 6 Batch 300 Loss 0.1412\n",
      "Epoch 6 Batch 400 Loss 0.1644\n",
      "Epoch 6 Batch 500 Loss 0.1154\n",
      "Epoch 6 Batch 600 Loss 0.2135\n",
      "Epoch 6 Batch 700 Loss 0.1490\n",
      "Epoch 6 Batch 800 Loss 0.1694\n",
      "Epoch 6 Batch 900 Loss 0.2325\n",
      "Epoch 6 Batch 1000 Loss 0.1927\n",
      "Epoch 6 Batch 1100 Loss 0.1875\n",
      "Epoch 6 Batch 1200 Loss 0.1647\n",
      "Epoch 6 Loss 0.1681\n",
      "Time taken for 1 epoch 1964.0489196777344 sec\n",
      "\n",
      "Epoch 7 Batch 0 Loss 0.1056\n",
      "Epoch 7 Batch 100 Loss 0.1074\n",
      "Epoch 7 Batch 200 Loss 0.1234\n",
      "Epoch 7 Batch 300 Loss 0.1527\n",
      "Epoch 7 Batch 400 Loss 0.1408\n",
      "Epoch 7 Batch 500 Loss 0.1186\n",
      "Epoch 7 Batch 600 Loss 0.1427\n",
      "Epoch 7 Batch 700 Loss 0.1590\n",
      "Epoch 7 Batch 800 Loss 0.1755\n",
      "Epoch 7 Batch 900 Loss 0.1724\n",
      "Epoch 7 Batch 1000 Loss 0.1324\n",
      "Epoch 7 Batch 1100 Loss 0.1772\n",
      "Epoch 7 Batch 1200 Loss 0.1663\n",
      "Epoch 7 Loss 0.1400\n",
      "Time taken for 1 epoch 1963.1491494178772 sec\n",
      "\n",
      "Epoch 8 Batch 0 Loss 0.1052\n",
      "Epoch 8 Batch 100 Loss 0.1125\n",
      "Epoch 8 Batch 200 Loss 0.0805\n",
      "Epoch 8 Batch 300 Loss 0.1265\n",
      "Epoch 8 Batch 400 Loss 0.0857\n",
      "Epoch 8 Batch 500 Loss 0.1061\n",
      "Epoch 8 Batch 600 Loss 0.1049\n",
      "Epoch 8 Batch 700 Loss 0.1111\n",
      "Epoch 8 Batch 800 Loss 0.1435\n",
      "Epoch 8 Batch 900 Loss 0.1502\n",
      "Epoch 8 Batch 1000 Loss 0.1325\n",
      "Epoch 8 Batch 1100 Loss 0.1264\n",
      "Epoch 8 Batch 1200 Loss 0.1240\n",
      "Epoch 8 Loss 0.1216\n",
      "Time taken for 1 epoch 1969.435921907425 sec\n",
      "\n",
      "Epoch 9 Batch 0 Loss 0.1106\n",
      "Epoch 9 Batch 100 Loss 0.0914\n",
      "Epoch 9 Batch 200 Loss 0.0813\n",
      "Epoch 9 Batch 300 Loss 0.0831\n",
      "Epoch 9 Batch 400 Loss 0.0843\n",
      "Epoch 9 Batch 500 Loss 0.0783\n",
      "Epoch 9 Batch 600 Loss 0.0960\n",
      "Epoch 9 Batch 700 Loss 0.0967\n",
      "Epoch 9 Batch 800 Loss 0.0820\n",
      "Epoch 9 Batch 900 Loss 0.1179\n",
      "Epoch 9 Batch 1000 Loss 0.1115\n",
      "Epoch 9 Batch 1100 Loss 0.0940\n",
      "Epoch 9 Batch 1200 Loss 0.1293\n",
      "Epoch 9 Loss 0.1085\n",
      "Time taken for 1 epoch 1961.1974034309387 sec\n",
      "\n",
      "Epoch 10 Batch 0 Loss 0.0729\n",
      "Epoch 10 Batch 100 Loss 0.0714\n",
      "Epoch 10 Batch 200 Loss 0.0754\n",
      "Epoch 10 Batch 300 Loss 0.0822\n",
      "Epoch 10 Batch 400 Loss 0.0706\n",
      "Epoch 10 Batch 500 Loss 0.1079\n",
      "Epoch 10 Batch 600 Loss 0.0668\n",
      "Epoch 10 Batch 700 Loss 0.1549\n",
      "Epoch 10 Batch 800 Loss 0.0806\n",
      "Epoch 10 Batch 900 Loss 0.1008\n",
      "Epoch 10 Batch 1000 Loss 0.1370\n",
      "Epoch 10 Batch 1100 Loss 0.1187\n",
      "Epoch 10 Batch 1200 Loss 0.1167\n",
      "Epoch 10 Loss 0.1006\n",
      "Time taken for 1 epoch 1970.4643404483795 sec\n",
      "\n"
     ]
    }
   ],
   "source": [
    "EPOCHS = 10\n",
    "\n",
    "for epoch in range(EPOCHS):\n",
    "  start = time.time()\n",
    "  enc_hidden = encoder.initialize_hidden_state()\n",
    "  total_loss = 0\n",
    "\n",
    "  for (batch, (inp, targ)) in enumerate(dataset.take(steps_per_epoch)):\n",
    "    batch_loss = train_step(inp, targ, enc_hidden)\n",
    "    total_loss += batch_loss\n",
    "\n",
    "    if batch % 100 == 0:\n",
    "      print('Epoch {} Batch {} Loss {:.4f}'.format(epoch + 1,\n",
    "                                                   batch,\n",
    "                                                   batch_loss.numpy()))\n",
    "  \n",
    "  if (epoch + 1) % 2 == 0:\n",
    "    checkpoint.save(file_prefix = checkpoint_prefix)\n",
    "\n",
    "  print('Epoch {} Loss {:.4f}'.format(epoch + 1,total_loss / steps_per_epoch))\n",
    "  print('Time taken for 1 epoch {} sec\\n'.format(time.time() - start))"
   ]
  },
  {
   "cell_type": "code",
   "execution_count": 23,
   "id": "37c9c027",
   "metadata": {},
   "outputs": [],
   "source": [
    "def evaluate(sentence):\n",
    "  attention_plot = np.zeros((max_length_targ, max_length_inp))\n",
    "\n",
    "  sentence = preprocess_sentence(sentence)\n",
    "\n",
    "  inputs = [inp_lang.word_index[i] for i in sentence.split(' ')]\n",
    "  inputs = tf.keras.preprocessing.sequence.pad_sequences([inputs],\n",
    "                                                         maxlen=max_length_inp,\n",
    "                                                         padding='post')\n",
    "  inputs = tf.convert_to_tensor(inputs)\n",
    "\n",
    "  result = ''\n",
    "\n",
    "  hidden = [tf.zeros((1, units))]\n",
    "  enc_out, enc_hidden = encoder(inputs, hidden)\n",
    "\n",
    "  dec_hidden = enc_hidden\n",
    "  dec_input = tf.expand_dims([targ_lang.word_index['<start>']], 0)\n",
    "\n",
    "  for t in range(max_length_targ):\n",
    "    predictions, dec_hidden, attention_weights = decoder(dec_input,\n",
    "                                                         dec_hidden,\n",
    "                                                         enc_out)\n",
    "\n",
    "    attention_weights = tf.reshape(attention_weights, (-1, ))\n",
    "    attention_plot[t] = attention_weights.numpy()\n",
    "\n",
    "    predicted_id = tf.argmax(predictions[0]).numpy()\n",
    "\n",
    "    result += targ_lang.index_word[predicted_id] + ' '\n",
    "\n",
    "    if targ_lang.index_word[predicted_id] == '<end>':\n",
    "      return result, sentence, attention_plot\n",
    "\n",
    "    dec_input = tf.expand_dims([predicted_id], 0)\n",
    "\n",
    "  return result, sentence, attention_plot"
   ]
  },
  {
   "cell_type": "code",
   "execution_count": 24,
   "id": "e59145a6",
   "metadata": {},
   "outputs": [],
   "source": [
    "def plot_attention(attention, sentence, predicted_sentence):\n",
    "  fig = plt.figure(figsize=(10,10))\n",
    "  ax = fig.add_subplot(1, 1, 1)\n",
    "  ax.matshow(attention, cmap='viridis')\n",
    "  fontdict = {'fontsize': 14}\n",
    "  ax.set_xticklabels([''] + sentence, fontdict=fontdict, rotation=90)\n",
    "  ax.set_yticklabels([''] + predicted_sentence, fontdict=fontdict)\n",
    "  ax.xaxis.set_major_locator(ticker.MultipleLocator(1))\n",
    "  ax.yaxis.set_major_locator(ticker.MultipleLocator(1))\n",
    "  plt.show()"
   ]
  },
  {
   "cell_type": "code",
   "execution_count": 25,
   "id": "8fb07c3d",
   "metadata": {},
   "outputs": [],
   "source": [
    "def translate(sentence):\n",
    "  result, sentence, attention_plot = evaluate(sentence)\n",
    "  print('Input: %s' % (sentence))\n",
    "  print('Predicted translation: {}'.format(result))\n",
    "  attention_plot = attention_plot[:len(result.split(' ')), :len(sentence.split(' '))]\n",
    "  plot_attention(attention_plot, sentence.split(' '), result.split(' '))"
   ]
  },
  {
   "cell_type": "code",
   "execution_count": 26,
   "id": "46e5f690",
   "metadata": {},
   "outputs": [
    {
     "data": {
      "text/plain": [
       "<tensorflow.python.checkpoint.checkpoint.CheckpointLoadStatus at 0x1e61aab16c0>"
      ]
     },
     "execution_count": 26,
     "metadata": {},
     "output_type": "execute_result"
    }
   ],
   "source": [
    "checkpoint.restore(tf.train.latest_checkpoint(checkpoint_dir))"
   ]
  },
  {
   "cell_type": "code",
   "execution_count": 27,
   "id": "a4ae7cbd",
   "metadata": {},
   "outputs": [
    {
     "name": "stdout",
     "output_type": "stream",
     "text": [
      "Input: <start> je vois tous les gens du monde . <end>\n",
      "Predicted translation: i see everyone . <end> \n"
     ]
    },
    {
     "name": "stderr",
     "output_type": "stream",
     "text": [
      "C:\\Users\\rfk03\\AppData\\Local\\Temp\\ipykernel_7948\\2445879938.py:6: UserWarning: FixedFormatter should only be used together with FixedLocator\n",
      "  ax.set_xticklabels([''] + sentence, fontdict=fontdict, rotation=90)\n",
      "C:\\Users\\rfk03\\AppData\\Local\\Temp\\ipykernel_7948\\2445879938.py:7: UserWarning: FixedFormatter should only be used together with FixedLocator\n",
      "  ax.set_yticklabels([''] + predicted_sentence, fontdict=fontdict)\n"
     ]
    },
    {
     "data": {
      "image/png": "[encoded data removed]",
      "text/plain": [
       "<Figure size 720x720 with 1 Axes>"
      ]
     },
     "metadata": {
      "needs_background": "light"
     },
     "output_type": "display_data"
    }
   ],
   "source": [
    "translate(\"Je vois tous les gens du monde.\")"
   ]
  },
  {
   "cell_type": "code",
   "execution_count": 28,
   "id": "8b9f97bd",
   "metadata": {},
   "outputs": [
    {
     "name": "stdout",
     "output_type": "stream",
     "text": [
      "Input: <start> ils voulaient voyager . <end>\n",
      "Predicted translation: they wanted to travel . <end> \n"
     ]
    },
    {
     "name": "stderr",
     "output_type": "stream",
     "text": [
      "C:\\Users\\rfk03\\AppData\\Local\\Temp\\ipykernel_7948\\2445879938.py:6: UserWarning: FixedFormatter should only be used together with FixedLocator\n",
      "  ax.set_xticklabels([''] + sentence, fontdict=fontdict, rotation=90)\n",
      "C:\\Users\\rfk03\\AppData\\Local\\Temp\\ipykernel_7948\\2445879938.py:7: UserWarning: FixedFormatter should only be used together with FixedLocator\n",
      "  ax.set_yticklabels([''] + predicted_sentence, fontdict=fontdict)\n"
     ]
    },
    {
     "data": {
      "image/png": "[encoded data removed]",
      "text/plain": [
       "<Figure size 720x720 with 1 Axes>"
      ]
     },
     "metadata": {
      "needs_background": "light"
     },
     "output_type": "display_data"
    }
   ],
   "source": [
    "translate(\"Ils voulaient voyager.\")"
   ]
  },
  {
   "cell_type": "code",
   "execution_count": 29,
   "id": "cdb35346",
   "metadata": {
    "scrolled": true
   },
   "outputs": [
    {
     "name": "stdout",
     "output_type": "stream",
     "text": [
      "Input: <start> voler vers le ciel est notre espoir . <end>\n",
      "Predicted translation: something's over the full support . <end> \n"
     ]
    },
    {
     "name": "stderr",
     "output_type": "stream",
     "text": [
      "C:\\Users\\rfk03\\AppData\\Local\\Temp\\ipykernel_7948\\2445879938.py:6: UserWarning: FixedFormatter should only be used together with FixedLocator\n",
      "  ax.set_xticklabels([''] + sentence, fontdict=fontdict, rotation=90)\n",
      "C:\\Users\\rfk03\\AppData\\Local\\Temp\\ipykernel_7948\\2445879938.py:7: UserWarning: FixedFormatter should only be used together with FixedLocator\n",
      "  ax.set_yticklabels([''] + predicted_sentence, fontdict=fontdict)\n"
     ]
    },
    {
     "data": {
      "image/png": "[encoded data removed]",
      "text/plain": [
       "<Figure size 720x720 with 1 Axes>"
      ]
     },
     "metadata": {
      "needs_background": "light"
     },
     "output_type": "display_data"
    }
   ],
   "source": [
    "translate(\"Voler vers le ciel est notre espoir.\")"
   ]
  },
  {
   "cell_type": "markdown",
   "id": "a7e57838",
   "metadata": {},
   "source": [
    "---"
   ]
  }
 ],
 "metadata": {
  "kernelspec": {
   "display_name": "Python 3 (ipykernel)",
   "language": "python",
   "name": "python3"
  },
  "language_info": {
   "codemirror_mode": {
    "name": "ipython",
    "version": 3
   },
   "file_extension": ".py",
   "mimetype": "text/x-python",
   "name": "python",
   "nbconvert_exporter": "python",
   "pygments_lexer": "ipython3",
   "version": "3.9.12"
  }
 },
 "nbformat": 4,
 "nbformat_minor": 5
}
