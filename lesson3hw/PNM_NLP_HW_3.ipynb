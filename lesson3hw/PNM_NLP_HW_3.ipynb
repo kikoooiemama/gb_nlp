{
 "cells": [
  {
   "cell_type": "markdown",
   "metadata": {},
   "source": [
    "# Практическое задание №3 по теме \"Embedding word2vec fasttext\"."
   ]
  },
  {
   "cell_type": "markdown",
   "metadata": {
    "id": "hVkquqxSFpLF"
   },
   "source": [
    "### Загружаем библиотеки:"
   ]
  },
  {
   "cell_type": "code",
   "execution_count": 1,
   "metadata": {
    "id": "aBsTrtArcSgQ"
   },
   "outputs": [],
   "source": [
    "import pandas as pd\n",
    "import numpy as np\n",
    "import nltk\n",
    "import re\n",
    "import string\n",
    "import time\n",
    "from nltk import word_tokenize\n",
    "from nltk.corpus import stopwords\n",
    "from gensim.models import Word2Vec, FastText"
   ]
  },
  {
   "cell_type": "markdown",
   "metadata": {
    "id": "bhB6Jqd1FwlZ"
   },
   "source": [
    "### Используем датасет lenta-ru-news.csv:"
   ]
  },
  {
   "cell_type": "code",
   "execution_count": 2,
   "metadata": {
    "id": "UvI2XDf8cSnx"
   },
   "outputs": [],
   "source": [
    "df = pd.read_csv('/content/drive/MyDrive/lenta-ru-news.csv')"
   ]
  },
  {
   "cell_type": "markdown",
   "metadata": {
    "id": "n5v7ycAjF7n2"
   },
   "source": [
    "### Удаляем ненужные признаки:"
   ]
  },
  {
   "cell_type": "code",
   "execution_count": 3,
   "metadata": {
    "id": "Rb2GlLvzdE18"
   },
   "outputs": [],
   "source": [
    "df = df.drop(columns=['url','topic','tags'])"
   ]
  },
  {
   "cell_type": "code",
   "execution_count": 4,
   "metadata": {
    "colab": {
     "base_uri": "https://localhost:8080/"
    },
    "id": "7mvOqMJoyAuA",
    "outputId": "820dad30-9d48-4ed7-ab6b-c0eba313a314"
   },
   "outputs": [
    {
     "name": "stdout",
     "output_type": "stream",
     "text": [
      "<class 'pandas.core.frame.DataFrame'>\n",
      "RangeIndex: 739351 entries, 0 to 739350\n",
      "Data columns (total 2 columns):\n",
      " #   Column  Non-Null Count   Dtype \n",
      "---  ------  --------------   ----- \n",
      " 0   title   739351 non-null  object\n",
      " 1   text    739346 non-null  object\n",
      "dtypes: object(2)\n",
      "memory usage: 11.3+ MB\n"
     ]
    }
   ],
   "source": [
    "df.info()"
   ]
  },
  {
   "cell_type": "code",
   "execution_count": 5,
   "metadata": {
    "colab": {
     "base_uri": "https://localhost:8080/",
     "height": 206
    },
    "id": "eOAG7ICYcSqL",
    "outputId": "e4bbcdfd-5619-4ca4-8b2e-7cb8bbd9b77e"
   },
   "outputs": [
    {
     "data": {
      "text/html": [
       "\n",
       "  <div id=\"df-84d91993-0cf5-4713-b443-212105d3a601\">\n",
       "    <div class=\"colab-df-container\">\n",
       "      <div>\n",
       "<style scoped>\n",
       "    .dataframe tbody tr th:only-of-type {\n",
       "        vertical-align: middle;\n",
       "    }\n",
       "\n",
       "    .dataframe tbody tr th {\n",
       "        vertical-align: top;\n",
       "    }\n",
       "\n",
       "    .dataframe thead th {\n",
       "        text-align: right;\n",
       "    }\n",
       "</style>\n",
       "<table border=\"1\" class=\"dataframe\">\n",
       "  <thead>\n",
       "    <tr style=\"text-align: right;\">\n",
       "      <th></th>\n",
       "      <th>title</th>\n",
       "      <th>text</th>\n",
       "    </tr>\n",
       "  </thead>\n",
       "  <tbody>\n",
       "    <tr>\n",
       "      <th>0</th>\n",
       "      <td>Названы регионы России с самой высокой смертно...</td>\n",
       "      <td>Вице-премьер по социальным вопросам Татьяна Го...</td>\n",
       "    </tr>\n",
       "    <tr>\n",
       "      <th>1</th>\n",
       "      <td>Австрия не представила доказательств вины росс...</td>\n",
       "      <td>Австрийские правоохранительные органы не предс...</td>\n",
       "    </tr>\n",
       "    <tr>\n",
       "      <th>2</th>\n",
       "      <td>Обнаружено самое счастливое место на планете</td>\n",
       "      <td>Сотрудники социальной сети Instagram проанализ...</td>\n",
       "    </tr>\n",
       "    <tr>\n",
       "      <th>3</th>\n",
       "      <td>В США раскрыли сумму расходов на расследование...</td>\n",
       "      <td>С начала расследования российского вмешательст...</td>\n",
       "    </tr>\n",
       "    <tr>\n",
       "      <th>4</th>\n",
       "      <td>Хакеры рассказали о планах Великобритании зами...</td>\n",
       "      <td>Хакерская группировка Anonymous опубликовала н...</td>\n",
       "    </tr>\n",
       "  </tbody>\n",
       "</table>\n",
       "</div>\n",
       "      <button class=\"colab-df-convert\" onclick=\"convertToInteractive('df-84d91993-0cf5-4713-b443-212105d3a601')\"\n",
       "              title=\"Convert this dataframe to an interactive table.\"\n",
       "              style=\"display:none;\">\n",
       "        \n",
       "  <svg xmlns=\"http://www.w3.org/2000/svg\" height=\"24px\"viewBox=\"0 0 24 24\"\n",
       "       width=\"24px\">\n",
       "    <path d=\"M0 0h24v24H0V0z\" fill=\"none\"/>\n",
       "    <path d=\"M18.56 5.44l.94 2.06.94-2.06 2.06-.94-2.06-.94-.94-2.06-.94 2.06-2.06.94zm-11 1L8.5 8.5l.94-2.06 2.06-.94-2.06-.94L8.5 2.5l-.94 2.06-2.06.94zm10 10l.94 2.06.94-2.06 2.06-.94-2.06-.94-.94-2.06-.94 2.06-2.06.94z\"/><path d=\"M17.41 7.96l-1.37-1.37c-.4-.4-.92-.59-1.43-.59-.52 0-1.04.2-1.43.59L10.3 9.45l-7.72 7.72c-.78.78-.78 2.05 0 2.83L4 21.41c.39.39.9.59 1.41.59.51 0 1.02-.2 1.41-.59l7.78-7.78 2.81-2.81c.8-.78.8-2.07 0-2.86zM5.41 20L4 18.59l7.72-7.72 1.47 1.35L5.41 20z\"/>\n",
       "  </svg>\n",
       "      </button>\n",
       "      \n",
       "  <style>\n",
       "    .colab-df-container {\n",
       "      display:flex;\n",
       "      flex-wrap:wrap;\n",
       "      gap: 12px;\n",
       "    }\n",
       "\n",
       "    .colab-df-convert {\n",
       "      background-color: #E8F0FE;\n",
       "      border: none;\n",
       "      border-radius: 50%;\n",
       "      cursor: pointer;\n",
       "      display: none;\n",
       "      fill: #1967D2;\n",
       "      height: 32px;\n",
       "      padding: 0 0 0 0;\n",
       "      width: 32px;\n",
       "    }\n",
       "\n",
       "    .colab-df-convert:hover {\n",
       "      background-color: #E2EBFA;\n",
       "      box-shadow: 0px 1px 2px rgba(60, 64, 67, 0.3), 0px 1px 3px 1px rgba(60, 64, 67, 0.15);\n",
       "      fill: #174EA6;\n",
       "    }\n",
       "\n",
       "    [theme=dark] .colab-df-convert {\n",
       "      background-color: #3B4455;\n",
       "      fill: #D2E3FC;\n",
       "    }\n",
       "\n",
       "    [theme=dark] .colab-df-convert:hover {\n",
       "      background-color: #434B5C;\n",
       "      box-shadow: 0px 1px 3px 1px rgba(0, 0, 0, 0.15);\n",
       "      filter: drop-shadow(0px 1px 2px rgba(0, 0, 0, 0.3));\n",
       "      fill: #FFFFFF;\n",
       "    }\n",
       "  </style>\n",
       "\n",
       "      <script>\n",
       "        const buttonEl =\n",
       "          document.querySelector('#df-84d91993-0cf5-4713-b443-212105d3a601 button.colab-df-convert');\n",
       "        buttonEl.style.display =\n",
       "          google.colab.kernel.accessAllowed ? 'block' : 'none';\n",
       "\n",
       "        async function convertToInteractive(key) {\n",
       "          const element = document.querySelector('#df-84d91993-0cf5-4713-b443-212105d3a601');\n",
       "          const dataTable =\n",
       "            await google.colab.kernel.invokeFunction('convertToInteractive',\n",
       "                                                     [key], {});\n",
       "          if (!dataTable) return;\n",
       "\n",
       "          const docLinkHtml = 'Like what you see? Visit the ' +\n",
       "            '<a target=\"_blank\" href=https://colab.research.google.com/notebooks/data_table.ipynb>data table notebook</a>'\n",
       "            + ' to learn more about interactive tables.';\n",
       "          element.innerHTML = '';\n",
       "          dataTable['output_type'] = 'display_data';\n",
       "          await google.colab.output.renderOutput(dataTable, element);\n",
       "          const docLink = document.createElement('div');\n",
       "          docLink.innerHTML = docLinkHtml;\n",
       "          element.appendChild(docLink);\n",
       "        }\n",
       "      </script>\n",
       "    </div>\n",
       "  </div>\n",
       "  "
      ],
      "text/plain": [
       "                                               title  \\\n",
       "0  Названы регионы России с самой высокой смертно...   \n",
       "1  Австрия не представила доказательств вины росс...   \n",
       "2       Обнаружено самое счастливое место на планете   \n",
       "3  В США раскрыли сумму расходов на расследование...   \n",
       "4  Хакеры рассказали о планах Великобритании зами...   \n",
       "\n",
       "                                                text  \n",
       "0  Вице-премьер по социальным вопросам Татьяна Го...  \n",
       "1  Австрийские правоохранительные органы не предс...  \n",
       "2  Сотрудники социальной сети Instagram проанализ...  \n",
       "3  С начала расследования российского вмешательст...  \n",
       "4  Хакерская группировка Anonymous опубликовала н...  "
      ]
     },
     "execution_count": 5,
     "metadata": {},
     "output_type": "execute_result"
    }
   ],
   "source": [
    "df.head()"
   ]
  },
  {
   "cell_type": "markdown",
   "metadata": {
    "id": "s-Cn4Qj1GDZO"
   },
   "source": [
    "### Функция предобработки и токенизации :"
   ]
  },
  {
   "cell_type": "code",
   "execution_count": 6,
   "metadata": {
    "id": "glpNQ22lcSvN"
   },
   "outputs": [],
   "source": [
    "def clean_text(text, tokenizer, stopwords):\n",
    "    \"\"\"Pre-process text and generate tokens\n",
    "\n",
    "    Args:\n",
    "        text: Text to tokenize.\n",
    "\n",
    "    Returns:\n",
    "        Tokenized text.\n",
    "    \"\"\"\n",
    "    text = str(text).lower()  # Lowercase words\n",
    "    text = re.sub(r\"\\[(.*?)\\]\", \"\", text)  # Remove [+XYZ chars] in content\n",
    "    text = re.sub(r\"\\s+\", \" \", text)  # Remove multiple spaces in content\n",
    "    text = re.sub(r\"\\w+…|…\", \"\", text)  # Remove ellipsis (and last word)\n",
    "    text = re.sub(r\"(?<=\\w)-(?=\\w)\", \" \", text)  # Replace dash between words\n",
    "    text = re.sub(\n",
    "        f\"[{re.escape(string.punctuation)}]\", \"\", text\n",
    "    )  # Remove punctuation\n",
    "\n",
    "    tokens = tokenizer(text)  # Get tokens from text\n",
    "    tokens = [t for t in tokens if not t in stopwords]  # Remove stopwords\n",
    "    tokens = [\"\" if t.isdigit() else t for t in tokens]  # Remove digits\n",
    "    tokens = [t for t in tokens if len(t) > 1]  # Remove short tokens\n",
    "    return tokens"
   ]
  },
  {
   "cell_type": "code",
   "execution_count": 7,
   "metadata": {
    "colab": {
     "base_uri": "https://localhost:8080/"
    },
    "id": "JgKoFbVLgN_F",
    "outputId": "54b187be-2c66-4ca4-df4c-0204b8d73ea8"
   },
   "outputs": [
    {
     "name": "stderr",
     "output_type": "stream",
     "text": [
      "[nltk_data] Downloading package stopwords to /root/nltk_data...\n",
      "[nltk_data]   Package stopwords is already up-to-date!\n",
      "[nltk_data] Downloading package punkt to /root/nltk_data...\n",
      "[nltk_data]   Package punkt is already up-to-date!\n"
     ]
    },
    {
     "data": {
      "text/plain": [
       "True"
      ]
     },
     "execution_count": 7,
     "metadata": {},
     "output_type": "execute_result"
    }
   ],
   "source": [
    "nltk.download(\"stopwords\")\n",
    "nltk.download('punkt')"
   ]
  },
  {
   "cell_type": "code",
   "execution_count": 8,
   "metadata": {
    "colab": {
     "base_uri": "https://localhost:8080/",
     "height": 206
    },
    "id": "0zCRsPu4cSxk",
    "outputId": "5d0a72d6-8178-4fba-c2ea-96018d12b1c8"
   },
   "outputs": [
    {
     "data": {
      "text/html": [
       "\n",
       "  <div id=\"df-9c3c4640-c664-439f-944e-20659692ff21\">\n",
       "    <div class=\"colab-df-container\">\n",
       "      <div>\n",
       "<style scoped>\n",
       "    .dataframe tbody tr th:only-of-type {\n",
       "        vertical-align: middle;\n",
       "    }\n",
       "\n",
       "    .dataframe tbody tr th {\n",
       "        vertical-align: top;\n",
       "    }\n",
       "\n",
       "    .dataframe thead th {\n",
       "        text-align: right;\n",
       "    }\n",
       "</style>\n",
       "<table border=\"1\" class=\"dataframe\">\n",
       "  <thead>\n",
       "    <tr style=\"text-align: right;\">\n",
       "      <th></th>\n",
       "      <th>title</th>\n",
       "      <th>text</th>\n",
       "      <th>tokens</th>\n",
       "    </tr>\n",
       "  </thead>\n",
       "  <tbody>\n",
       "    <tr>\n",
       "      <th>0</th>\n",
       "      <td>Названы регионы России с самой высокой смертно...</td>\n",
       "      <td>Вице-премьер по социальным вопросам Татьяна Го...</td>\n",
       "      <td>[названы, регионы, россии, самой, высокой, сме...</td>\n",
       "    </tr>\n",
       "    <tr>\n",
       "      <th>1</th>\n",
       "      <td>Австрия не представила доказательств вины росс...</td>\n",
       "      <td>Австрийские правоохранительные органы не предс...</td>\n",
       "      <td>[австрия, представила, доказательств, вины, ро...</td>\n",
       "    </tr>\n",
       "    <tr>\n",
       "      <th>2</th>\n",
       "      <td>Обнаружено самое счастливое место на планете</td>\n",
       "      <td>Сотрудники социальной сети Instagram проанализ...</td>\n",
       "      <td>[обнаружено, самое, счастливое, место, планете]</td>\n",
       "    </tr>\n",
       "    <tr>\n",
       "      <th>3</th>\n",
       "      <td>В США раскрыли сумму расходов на расследование...</td>\n",
       "      <td>С начала расследования российского вмешательст...</td>\n",
       "      <td>[сша, раскрыли, сумму, расходов, расследование...</td>\n",
       "    </tr>\n",
       "    <tr>\n",
       "      <th>4</th>\n",
       "      <td>Хакеры рассказали о планах Великобритании зами...</td>\n",
       "      <td>Хакерская группировка Anonymous опубликовала н...</td>\n",
       "      <td>[хакеры, рассказали, планах, великобритании, з...</td>\n",
       "    </tr>\n",
       "  </tbody>\n",
       "</table>\n",
       "</div>\n",
       "      <button class=\"colab-df-convert\" onclick=\"convertToInteractive('df-9c3c4640-c664-439f-944e-20659692ff21')\"\n",
       "              title=\"Convert this dataframe to an interactive table.\"\n",
       "              style=\"display:none;\">\n",
       "        \n",
       "  <svg xmlns=\"http://www.w3.org/2000/svg\" height=\"24px\"viewBox=\"0 0 24 24\"\n",
       "       width=\"24px\">\n",
       "    <path d=\"M0 0h24v24H0V0z\" fill=\"none\"/>\n",
       "    <path d=\"M18.56 5.44l.94 2.06.94-2.06 2.06-.94-2.06-.94-.94-2.06-.94 2.06-2.06.94zm-11 1L8.5 8.5l.94-2.06 2.06-.94-2.06-.94L8.5 2.5l-.94 2.06-2.06.94zm10 10l.94 2.06.94-2.06 2.06-.94-2.06-.94-.94-2.06-.94 2.06-2.06.94z\"/><path d=\"M17.41 7.96l-1.37-1.37c-.4-.4-.92-.59-1.43-.59-.52 0-1.04.2-1.43.59L10.3 9.45l-7.72 7.72c-.78.78-.78 2.05 0 2.83L4 21.41c.39.39.9.59 1.41.59.51 0 1.02-.2 1.41-.59l7.78-7.78 2.81-2.81c.8-.78.8-2.07 0-2.86zM5.41 20L4 18.59l7.72-7.72 1.47 1.35L5.41 20z\"/>\n",
       "  </svg>\n",
       "      </button>\n",
       "      \n",
       "  <style>\n",
       "    .colab-df-container {\n",
       "      display:flex;\n",
       "      flex-wrap:wrap;\n",
       "      gap: 12px;\n",
       "    }\n",
       "\n",
       "    .colab-df-convert {\n",
       "      background-color: #E8F0FE;\n",
       "      border: none;\n",
       "      border-radius: 50%;\n",
       "      cursor: pointer;\n",
       "      display: none;\n",
       "      fill: #1967D2;\n",
       "      height: 32px;\n",
       "      padding: 0 0 0 0;\n",
       "      width: 32px;\n",
       "    }\n",
       "\n",
       "    .colab-df-convert:hover {\n",
       "      background-color: #E2EBFA;\n",
       "      box-shadow: 0px 1px 2px rgba(60, 64, 67, 0.3), 0px 1px 3px 1px rgba(60, 64, 67, 0.15);\n",
       "      fill: #174EA6;\n",
       "    }\n",
       "\n",
       "    [theme=dark] .colab-df-convert {\n",
       "      background-color: #3B4455;\n",
       "      fill: #D2E3FC;\n",
       "    }\n",
       "\n",
       "    [theme=dark] .colab-df-convert:hover {\n",
       "      background-color: #434B5C;\n",
       "      box-shadow: 0px 1px 3px 1px rgba(0, 0, 0, 0.15);\n",
       "      filter: drop-shadow(0px 1px 2px rgba(0, 0, 0, 0.3));\n",
       "      fill: #FFFFFF;\n",
       "    }\n",
       "  </style>\n",
       "\n",
       "      <script>\n",
       "        const buttonEl =\n",
       "          document.querySelector('#df-9c3c4640-c664-439f-944e-20659692ff21 button.colab-df-convert');\n",
       "        buttonEl.style.display =\n",
       "          google.colab.kernel.accessAllowed ? 'block' : 'none';\n",
       "\n",
       "        async function convertToInteractive(key) {\n",
       "          const element = document.querySelector('#df-9c3c4640-c664-439f-944e-20659692ff21');\n",
       "          const dataTable =\n",
       "            await google.colab.kernel.invokeFunction('convertToInteractive',\n",
       "                                                     [key], {});\n",
       "          if (!dataTable) return;\n",
       "\n",
       "          const docLinkHtml = 'Like what you see? Visit the ' +\n",
       "            '<a target=\"_blank\" href=https://colab.research.google.com/notebooks/data_table.ipynb>data table notebook</a>'\n",
       "            + ' to learn more about interactive tables.';\n",
       "          element.innerHTML = '';\n",
       "          dataTable['output_type'] = 'display_data';\n",
       "          await google.colab.output.renderOutput(dataTable, element);\n",
       "          const docLink = document.createElement('div');\n",
       "          docLink.innerHTML = docLinkHtml;\n",
       "          element.appendChild(docLink);\n",
       "        }\n",
       "      </script>\n",
       "    </div>\n",
       "  </div>\n",
       "  "
      ],
      "text/plain": [
       "                                               title  \\\n",
       "0  Названы регионы России с самой высокой смертно...   \n",
       "1  Австрия не представила доказательств вины росс...   \n",
       "2       Обнаружено самое счастливое место на планете   \n",
       "3  В США раскрыли сумму расходов на расследование...   \n",
       "4  Хакеры рассказали о планах Великобритании зами...   \n",
       "\n",
       "                                                text  \\\n",
       "0  Вице-премьер по социальным вопросам Татьяна Го...   \n",
       "1  Австрийские правоохранительные органы не предс...   \n",
       "2  Сотрудники социальной сети Instagram проанализ...   \n",
       "3  С начала расследования российского вмешательст...   \n",
       "4  Хакерская группировка Anonymous опубликовала н...   \n",
       "\n",
       "                                              tokens  \n",
       "0  [названы, регионы, россии, самой, высокой, сме...  \n",
       "1  [австрия, представила, доказательств, вины, ро...  \n",
       "2    [обнаружено, самое, счастливое, место, планете]  \n",
       "3  [сша, раскрыли, сумму, расходов, расследование...  \n",
       "4  [хакеры, рассказали, планах, великобритании, з...  "
      ]
     },
     "execution_count": 8,
     "metadata": {},
     "output_type": "execute_result"
    }
   ],
   "source": [
    "stopwrd = set(stopwords.words(\"russian\"))\n",
    "df[\"tokens\"] = df[\"title\"].map(lambda x: clean_text(x, word_tokenize, stopwrd))\n",
    "df.head()"
   ]
  },
  {
   "cell_type": "markdown",
   "metadata": {
    "id": "0ZRdyjT7ztIv"
   },
   "source": [
    "### Применение Word2Vec:"
   ]
  },
  {
   "cell_type": "code",
   "execution_count": 9,
   "metadata": {
    "id": "1z4Mn4ZZpYcb"
   },
   "outputs": [],
   "source": [
    "model = Word2Vec(sentences=df[\"tokens\"].values, vector_size=100, workers=1)"
   ]
  },
  {
   "cell_type": "code",
   "execution_count": 10,
   "metadata": {
    "colab": {
     "base_uri": "https://localhost:8080/"
    },
    "id": "OrKqAQyzpYez",
    "outputId": "2bef6b50-54e8-48b9-b436-f646f9ac0102"
   },
   "outputs": [
    {
     "data": {
      "text/plain": [
       "(739351, 100)"
      ]
     },
     "execution_count": 10,
     "metadata": {},
     "output_type": "execute_result"
    }
   ],
   "source": [
    "def vectorize(list_of_docs, model):\n",
    "    \"\"\"Generate vectors for list of documents using a Word Embedding\n",
    "\n",
    "    Args:\n",
    "        list_of_docs: List of documents\n",
    "        model: Gensim's Word Embedding\n",
    "\n",
    "    Returns:\n",
    "        List of document vectors\n",
    "    \"\"\"\n",
    "    features = []\n",
    "\n",
    "    for tokens in list_of_docs:\n",
    "        zero_vector = np.zeros(model.vector_size)\n",
    "        vectors = []\n",
    "        for token in tokens:\n",
    "            if token in model.wv:\n",
    "                try:\n",
    "                    vectors.append(model.wv[token])\n",
    "                except KeyError:\n",
    "                    continue\n",
    "        if vectors:\n",
    "            vectors = np.asarray(vectors)\n",
    "            avg_vec = vectors.mean(axis=0)\n",
    "            features.append(avg_vec)\n",
    "        else:\n",
    "            features.append(zero_vector)\n",
    "    return features\n",
    "    \n",
    "vectorized_docs = vectorize(df[\"tokens\"].values, model=model)\n",
    "len(vectorized_docs), len(vectorized_docs[0])"
   ]
  },
  {
   "cell_type": "code",
   "execution_count": 11,
   "metadata": {
    "id": "P0mxbgXrqhUH"
   },
   "outputs": [],
   "source": [
    "from sklearn.neighbors import KDTree\n",
    "X = np.vstack(vectorized_docs)\n",
    "tree = KDTree(X)"
   ]
  },
  {
   "cell_type": "code",
   "execution_count": 12,
   "metadata": {
    "colab": {
     "base_uri": "https://localhost:8080/"
    },
    "id": "oYm8QASKqhWe",
    "outputId": "419fb60c-a803-479c-c799-91212d6d9dec"
   },
   "outputs": [
    {
     "data": {
      "text/plain": [
       "['Агенты знаменитого британского актера Шона Коннери  (Sean Connery) ведут переговоры с чешским автозаводом Skoda о съемках сэра Шона в рекламе для испанского рынка автомобиля Octavia. Ролик предполагается снимать в Шотландии, и актер предстанет в нем в традиционной шотландской юбке-килте. Возможно, именно это и заставило знаменитого актера благожелательно отнестись к идее участия в такой рекламе: сэр Шон не скрывает своих симпатий к шотландским националистам, и именно это долгое время служило ему препятствием для получения британского рыцарского звания. ВВС напоминает, что в качестве Джеймса Бонда Коннери стал самым знаменитым промоутером британских автомобилей Aston Martin - он разъезжал на них в шести фильмах про агента 007. То, что в последних трех фильмах Бонд (уже не Коннери) ездит на BMW,  воспринималось в Великобритании чуть ли не как национальная катастрофа - и очень повышало продажи немецкого автогиганта.',\n",
       " 'Метание топора и аркана (для ловли оленей), бег с палкой и гонки на оленьих упряжках будут признаны официальными национальными видами спорта в Ненецком автономном округе. Об этом рассказала и.о.\\xa0начальника Управления образования и молодежной политики НАО Лиана Храпова, передает «Красный тундровик». Для создания списка национальных видов спорта подготовлены соответствующие поправки в проект регионального закона «О физической культуре и спорте». По словам Храповой, для того, чтобы определить, какие виды спорта являются национальными для ненцев, привлекались эксперты и проводились опросы населения округа, в первую очередь, в отдаленных поселках. Проект закона «О физической культуре и спорте» был внесен парламент округа губернатором Игорем Кошиным. Приняв его 7\\xa0ноября в первом чтении, депутаты потребовали включить в текст документа перечень официальных национальных видов спорта НАО. Рассмотрение законопроекта во втором чтении назначено на 3\\xa0декабря. До этого времени в текст поправок по просьбе депутатов будет добавлен перевод специфических ненецких слов, которые могут быть понятны не всем жителям региона.',\n",
       " 'Около 30 граждан Казахстана и Киргизии, находившихся в туристической поездке по Северному морю, попросили политического убежища в Норвегии, передает \"Интерфакс\". Как сообщил в пятницу со ссылкой на посольство Норвегии в России корреспондент казахстанского телеагентства \"Хабар\", около 20 человек из них - граждане Казахстана. Первая группа казахстанских и киргизских туристов обратиласьс просьбой о предоставлении политического убежища в полицию норвежского города Хаммерфест, через который пролегал экскурсионный маршрут, около недели назад. Затем подобные заявления другие туристы подали по маршруту следования тургруппы в городах Олесунн, Ставангер, Берген. Последние желающие получить убежище в Норвегии обратились в полицию Осло в минувший четверг. О мотивах принятия туристами этого решения пока неизвестно. Как сообщает \"Хабар\", по норвежским законам, \"судьбу этих людей  будет решать иммиграционная служба\". Рассмотрение этого вопроса может занять от шести месяцев до года.',\n",
       " 'В Национальной галерее Австралии 9 декабря откроется выставка \"Итальянская живопись XV-XVI веков\", которая станет самой крупной экспозицией работ мастеров раннего и позднего Возрождения в стране. На официальном сайте музея сообщается, что картины предоставлены Академией Каррары в Бергамо. В музее выставят около 70 картин величайших живописцев эпохи Возрождения (Боттичелли, Тициана, Рафаэля, Перуджино и Беллини), которые до этого никогда не покидали Европу. Академия Каррары одолжила свою коллекцию австралийскому музею на время реконструкции. По словам директора Национальной галереи Рона Рэдфорда (Ron Radford), которые приводит The ArtInfo, в Австралии никогда не выставлялись полотна Рафаэля или Перуджино. Как отметил Рэдфорд, итальянские живописцы в целом скудно представлены в австралийских музеях. Выставка продлится до апреля следующего года и станет главным событием грядущего сезона для Национальной галереи. Частично финансовую поддержку музею в организации выставки оказали австралийские власти. 25 августа открылась еще одна большая экспозиция картин эпохи Возрождения - около 150 портретов итальянских мастеров выставили в берлинском музее Боде.',\n",
       " 'Российская пловчиха Юлия Ефимова не удивилась нежеланию своих соперниц из США поздравлять ее с завоеванием серебряной олимпийской медали в соревновании на дистанции 100 метров брассом. Об этом во вторник, 9 августа, сообщает ТАСС. «Я понимаю тех, кто меня не поздравил, потому что СМИ кишели новостями обо мне, которые не были правдивыми», — рассказала спортсменка. При этом Ефимова отметила, что все атлеты должны находиться вне политики, а не верить всему, что пишут в прессе. «Я всегда думала, что холодная война давно в прошлом, но зачем же сейчас развязывать ее, используя в спорте», — добавила пловчиха. После заплыва, прошедшего в ночь на вторник, 9 августа, американки Лилли Кинг и Кэтрин Мейли, занявшие первое и третье места соответственно, на церемонии награждения не поздравили россиянку с серебром. Шестикратный чемпион мира по плаванию Юрий Прилуков рассказал Национальной службе новостей, что серебряная медаль Ефимовой — более чем достойный результат. В мае 2014 года Ефимову дисквалифицировали на 16 месяцев из-за положительной пробы на анаболические стероиды. В марте этого года ее уличили в применении мельдония, но позже с пловчихи были сняты обвинения, так как концентрация вещества в организме не превышала допустимую норму.']"
      ]
     },
     "execution_count": 12,
     "metadata": {},
     "output_type": "execute_result"
    }
   ],
   "source": [
    "test_text = 'островные коты иммигрировали в норвегию'\n",
    "test_tokenized = clean_text(test_text, word_tokenize, stopwrd)\n",
    "test_vec = vectorize([test_tokenized], model=model)\n",
    "\n",
    "_, ind = tree.query(test_vec, k=5)\n",
    "[df.text.iloc[i] for i in ind[0]]"
   ]
  },
  {
   "cell_type": "markdown",
   "metadata": {
    "id": "ZKOQgRs8zyAN"
   },
   "source": [
    "### Применение FastText: "
   ]
  },
  {
   "cell_type": "code",
   "execution_count": 13,
   "metadata": {
    "id": "yioR7xAIyZVf"
   },
   "outputs": [],
   "source": [
    "modelFT = FastText(sentences=df[\"tokens\"], vector_size=100, min_count=1, window=5, workers=1)"
   ]
  },
  {
   "cell_type": "code",
   "execution_count": 14,
   "metadata": {
    "colab": {
     "base_uri": "https://localhost:8080/"
    },
    "id": "JRaKT7ivyaCG",
    "outputId": "44fa0f34-1652-4a4d-8c3c-65515b5be32f"
   },
   "outputs": [
    {
     "data": {
      "text/plain": [
       "['Байкеры из клуба «Ночные волки», совершающие мотопробег по Европе, беспрепятственно пересекли границу с Польшей. Об этом сообщила представитель пограничной службы страны Мирослава Александрович, передает сайт «Русский Диалог». «Польские пограничники не проверяли наличие в колонне мотоциклетных клубов, а проверили мотоциклистов по отдельности», — сказала она. По словам Александрович, пограничники узнали у россиян, на какие мероприятия они едут. «Каждый из них заявил, что примет участие в церемонии в честь советских воинов на кладбище в Бранево», — сообщила она. От границы колонна из 200 российских байкеров сопровождалась польскими полицейскими. По пути не было никаких инцидентов. В мотопробеге участвует губернатор Калининградской области Николай Цуканов. «Ночные волки» побывали на месте захоронения советских солдат на кладбище в польском городе Бранево. Всего в мероприятии приняли участие более 500 россиян. Москву представляли посол в Польше Сергей Андреев и генеральный консул в Гданьске Александр Карачевцев. 25 апреля колонна байкеров стартовала от московской штаб-квартиры «Ночных волков». Маршрут запланированного мотопробега проходит через города Минск, Брест, Вроцлав, Брно, Братиславу, Вену, Мюнхен, Прагу, Торгау, Карлсхорст, Берлин. Акция продлится с 29 апреля по 9 мая, за это время байкеры намерены посетить европейские мемориалы павшим во время Великой Отечественной войны. Общая длина маршрута — более шести тысяч километров. Ранее внешнеполитические ведомства Польши и Чехии не разрешили участникам мотопробега въезжать на территорию своих стран. Германия лишила въездной визы лидеров клуба «Ночные волки». Также заранее было объявлено, что колонне будет запрещен проезд по Берлину.',\n",
       " 'Во Вьетнаме запустили патриотические туры на спорные острова Спратли в Южно-Китайском море. Об этом сообщает Reuters со ссылкой на администрацию города Хошимин. Согласно специальному предложению, 180 вьетнамцев в июле смогут отправиться за 800 долларов на архипелаг, где они примут участие в ночной рыбалке, посетят маяк и насладятся местными морепродуктами. «Путешествие на острова Спратли станет большим событием в вашей жизни, возрождающим национальную гордость», — сказано в объявлении. Кроме того, тем, кто привык жить на широкую ногу, предлагаются вип-номера в отеле и полет на частном вертолете. Тур, во время которого гости смогут посетить два острова и два рифа, рассчитан на шесть дней. Острова Спратли — объект территориальных претензий со стороны Вьетнама, Филиппин, Брунея, Малайзии и Китая. Считается, что архипелаг богат нефтью и газом. Кроме того, эти острова имеют важное стратегическое значение, так как находятся на морском торговом пути.',\n",
       " 'Американо-германская группа химиков обнаружила, что кольцевые органические полимеры, в отличие от линейных молекул, существенно более эффективны в качестве электролюминесцентных веществ в органических светодиодах (OLED). Исследование опубликовано в Nature Chemistry, а его краткое содержание приводит сайт Университета Юты. Электролюминесцентный полимер, который создали химики, напоминает колесо: его молекула имеет обод, спицы и втулку. Его эффективность заключается в том, что кольцевые молекулы излучают свет, который не имеет определенной поляризации. Линейные полимеры, которые используются в современных органических светодиодах, ориентированы в одном направлении и излучают поляризованный свет. Это приводит к тому, что до 80 процентов испущенных фотонов вновь поглощаются в самом светодиоде и не попадают наружу. Как показали авторы, в кольцевых полимерах электролюминесценция происходит иначе. Ученые облучали зафиксированные на подложке индивидуальные молекулы ультрафиолетовым светом и наблюдали за поляризацией переиспускаемых фотонов видимого диапазона. Оказалось, что фотоны в таких молекулах излучались в самых разных направлениях и образующийся свет не имел поляризации. По словам ученых, использование кольцевых «молекул-ротелле» вместо «молекул-спагетти» способно снизить долю захваченного света в светодиодах с 80 до 50-60 процентов. Органические светодиоды широко используются для изготовления дисплеев электронных устройств. В этой области они имеют существенные преимущества перед жидкокристаллическими (LCD) экранами. Они, например, не требуют подсветки и тратят энергию только на само излучение, за счет чего возможна существенная экономия заряда батареи в мобильных устройствах. На практике, однако, эффективность OLED далека от теоретически возможной. Квантовый выход фотонов в таких устройствах редко превышает 20 процентов, а эффективность голубых светодиодов находится на уровне 4-6 процентов.',\n",
       " 'Первый покупатель самолетов 787 Dreamliner - японская авиакомпания All Nippon Airways (ANA) - попросила Boeing сделать иллюминаторы в салоне самолета более темными. Об этом сообщает Reuters. Перевозчика не устраивает прозрачность окон двух \"Лайнеров мечты\", которые используются для полетов на дальние расстояния. По информации неназванного источника агентства, ANA планирует установить заслонки на иллюминаторы уже доставленных Dreamliner. В частности, в авиакомпании считают, что пассажиры должны иметь возможность полностью затемнить окна во время сна. На Dreamliner установлены иллюминаторы, прозрачность которых меняется в зависимости от освещенности. Окна с размерами на 20 процентов больше стандартных не затемняются полностью. В остальном ANA полностью довольна работой семи \"Лайнеров мечты\", которыми компания располагает в настоящее время. По информации перевозчика, в первые полгода полетов 787 Dreamliner сжег на 21 процент меньше топлива, чем 767. В Boeing обещают 20-процентную экономию. Авиакомпании заказали у американского производителя 850 \"Лайнеров мечты\". Заказ ANA составляет 55 самолетов. Ранее у Dreamliner уже находили дефекты. В частности, был обнаружен производственный брак у деталей, произведенных для Boeing итальянской Alenia Aeronautica: из-за некорректного крепления прокладок при сборке хвостовой части произошло расслоение композиционных материалов. В Boeing обнаруженные дефекты называли несерьезными и не оказывающими влияния на безопасность полетов.',\n",
       " 'Во вторник французские авиадиспетчеры проводят национальную забастовку, сообщает BBC News. Она продлится с 6:00 до 23:00. Кроме того, французы объявили о том, что они планируют провести такие же акции протеста 2 и 3 июня. Это вызвало изменения в расписании авиарейсов во Францию, а также тех которые проходят в зоне ответственности французских диспетчерских служб. В связи с забастовкой были отменены многие рейсы, а некоторые авиакомпании были вынуждены отправлять пассажиров после окончания акции, выпустив на линию более крупные авиалайнеры. Как отмечает телеканал ТВС, в связи с забастовкой изменится расписание российских аэропортов. Будут отменены следующие рейсы (время московское): SU-753 (вылет в 9:00) SU-251 (вылет в 12:45) AF-1945 (вылет в 16:10) AF-1944 (прибытие в 15:10) SU-575 (прибытие в 17:35) SU-252 (прибытие в 22:05)']"
      ]
     },
     "execution_count": 14,
     "metadata": {},
     "output_type": "execute_result"
    }
   ],
   "source": [
    "vectorized_docs = vectorize(df[\"tokens\"], model=modelFT)\n",
    "X = np.vstack(vectorized_docs)\n",
    "tree = KDTree(X)\n",
    "\n",
    "test_text = 'островные коты иммигрировали в норвегию'\n",
    "test_tokenized = clean_text(test_text, word_tokenize, stopwrd)\n",
    "test_vec = vectorize([test_tokenized], model=modelFT)\n",
    "\n",
    "_, ind = tree.query(test_vec, k=5)\n",
    "[df.text.iloc[i] for i in ind[0]]"
   ]
  },
  {
   "cell_type": "markdown",
   "metadata": {
    "id": "7pYhs287S4F7"
   },
   "source": [
    "**Вывод:** Оценить результат довольно сложно, но обе модели предсказали тексты новостей довольно далекие от тестовой фразы."
   ]
  },
  {
   "cell_type": "markdown",
   "metadata": {},
   "source": [
    "---"
   ]
  }
 ],
 "metadata": {
  "colab": {
   "provenance": []
  },
  "gpuClass": "standard",
  "kernelspec": {
   "display_name": "Python 3 (ipykernel)",
   "language": "python",
   "name": "python3"
  },
  "language_info": {
   "codemirror_mode": {
    "name": "ipython",
    "version": 3
   },
   "file_extension": ".py",
   "mimetype": "text/x-python",
   "name": "python",
   "nbconvert_exporter": "python",
   "pygments_lexer": "ipython3",
   "version": "3.9.16"
  }
 },
 "nbformat": 4,
 "nbformat_minor": 1
}
